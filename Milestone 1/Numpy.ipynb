{
 "cells": [
  {
   "cell_type": "markdown",
   "id": "70df8aaa",
   "metadata": {},
   "source": [
    "# Numpy | Machine Learning | Coding Ninjas"
   ]
  },
  {
   "cell_type": "code",
   "execution_count": 10,
   "id": "08bf3aed",
   "metadata": {},
   "outputs": [],
   "source": [
    "import numpy as np\n",
    "import math as m"
   ]
  },
  {
   "cell_type": "markdown",
   "id": "b0dd2a8d",
   "metadata": {},
   "source": [
    "## Creating a Numpy Array"
   ]
  },
  {
   "cell_type": "code",
   "execution_count": 2,
   "id": "5c1b7754",
   "metadata": {},
   "outputs": [
    {
     "data": {
      "text/plain": [
       "array([1, 2, 3, 4])"
      ]
     },
     "execution_count": 2,
     "metadata": {},
     "output_type": "execute_result"
    }
   ],
   "source": [
    "l = [1,2,3,4] # This is a List\n",
    "np.array(l) # Converting List into Numpy Array"
   ]
  },
  {
   "cell_type": "markdown",
   "id": "d2e90023",
   "metadata": {},
   "source": [
    "#### If we add string elements in a list then while creating numpy array it will convert every element into string as we have to follow the same datatype for every element in Numpy Arrays."
   ]
  },
  {
   "cell_type": "code",
   "execution_count": 3,
   "id": "adbb5fd3",
   "metadata": {},
   "outputs": [
    {
     "data": {
      "text/plain": [
       "array(['1', '2', 'a', '4'], dtype='<U11')"
      ]
     },
     "execution_count": 3,
     "metadata": {},
     "output_type": "execute_result"
    }
   ],
   "source": [
    "m = [1,2,\"a\",\"4\"] # This is a List\n",
    "np.array(m) # Converting List into Numpy Array"
   ]
  },
  {
   "cell_type": "markdown",
   "id": "fb1ef19f",
   "metadata": {},
   "source": [
    "## Array Helper Functions in Numpy"
   ]
  },
  {
   "cell_type": "code",
   "execution_count": 4,
   "id": "a7bc3b2b",
   "metadata": {},
   "outputs": [
    {
     "name": "stdout",
     "output_type": "stream",
     "text": [
      "[0. 0. 0. 0. 0. 0. 0. 0. 0. 0.]\n",
      "float64\n",
      "[1. 1. 1. 1. 1. 1. 1. 1. 1. 1.]\n",
      "float64\n",
      "[0 0 0 0 0 0 0 0 0 0]\n",
      "float64\n"
     ]
    }
   ],
   "source": [
    "# Single Dimentional Arrays\n",
    "\n",
    "aa = np.zeros(10)\n",
    "print(aa)\n",
    "print(aa.dtype)\n",
    "bb = np.ones(10)\n",
    "print(bb)\n",
    "print(aa.dtype)\n",
    "cc = np.zeros(10, int)\n",
    "print(cc)\n",
    "print(aa.dtype)"
   ]
  },
  {
   "cell_type": "markdown",
   "id": "1852aae1",
   "metadata": {},
   "source": [
    "#### For creating a Multi Dimentional Arrays we need to pass the first argument in brackets and in this if we want to make 2-D array the 2 arguments, if 3-D then three arguments and so on."
   ]
  },
  {
   "cell_type": "code",
   "execution_count": 5,
   "id": "abf7e5f3",
   "metadata": {},
   "outputs": [
    {
     "name": "stdout",
     "output_type": "stream",
     "text": [
      "[[0. 0. 0. 0. 0.]\n",
      " [0. 0. 0. 0. 0.]\n",
      " [0. 0. 0. 0. 0.]]\n",
      "[[0 0 0 0 0]\n",
      " [0 0 0 0 0]\n",
      " [0 0 0 0 0]]\n",
      "[[[0. 0. 0.]\n",
      "  [0. 0. 0.]\n",
      "  [0. 0. 0.]\n",
      "  [0. 0. 0.]\n",
      "  [0. 0. 0.]]\n",
      "\n",
      " [[0. 0. 0.]\n",
      "  [0. 0. 0.]\n",
      "  [0. 0. 0.]\n",
      "  [0. 0. 0.]\n",
      "  [0. 0. 0.]]\n",
      "\n",
      " [[0. 0. 0.]\n",
      "  [0. 0. 0.]\n",
      "  [0. 0. 0.]\n",
      "  [0. 0. 0.]\n",
      "  [0. 0. 0.]]]\n",
      "[[[0 0 0]\n",
      "  [0 0 0]\n",
      "  [0 0 0]\n",
      "  [0 0 0]\n",
      "  [0 0 0]]\n",
      "\n",
      " [[0 0 0]\n",
      "  [0 0 0]\n",
      "  [0 0 0]\n",
      "  [0 0 0]\n",
      "  [0 0 0]]\n",
      "\n",
      " [[0 0 0]\n",
      "  [0 0 0]\n",
      "  [0 0 0]\n",
      "  [0 0 0]\n",
      "  [0 0 0]]]\n"
     ]
    }
   ],
   "source": [
    "# Multi Dimentional Arrays\n",
    "\n",
    "# 2-D\n",
    "dd = np.zeros((3,5))\n",
    "print(dd)\n",
    "ee = np.zeros((3,5),int)\n",
    "print(ee)\n",
    "\n",
    "# 3-D\n",
    "ff = np.zeros((3,5,3))\n",
    "print(ff)\n",
    "gg = np.zeros((3,5,3),int)\n",
    "print(gg)"
   ]
  },
  {
   "cell_type": "markdown",
   "id": "e3df23f2",
   "metadata": {},
   "source": [
    "## Shape Function"
   ]
  },
  {
   "cell_type": "code",
   "execution_count": 6,
   "id": "e5e1fbac",
   "metadata": {},
   "outputs": [
    {
     "name": "stdout",
     "output_type": "stream",
     "text": [
      "(10,)\n",
      "(10,)\n",
      "(10,)\n",
      "(3, 5)\n",
      "(3, 5)\n",
      "(3, 5, 3)\n",
      "(3, 5, 3)\n"
     ]
    }
   ],
   "source": [
    "# Printing the Shape of all arrays created.\n",
    "# Shape Function tells the Size\n",
    "\n",
    "print(aa.shape)\n",
    "print(bb.shape)\n",
    "print(cc.shape)\n",
    "print(dd.shape)\n",
    "print(ee.shape)\n",
    "print(ff.shape)\n",
    "print(gg.shape)"
   ]
  },
  {
   "cell_type": "markdown",
   "id": "404e0ac9",
   "metadata": {},
   "source": [
    "## Create 2-D Numpy Array Manually"
   ]
  },
  {
   "cell_type": "code",
   "execution_count": 7,
   "id": "678f6f09",
   "metadata": {},
   "outputs": [
    {
     "name": "stdout",
     "output_type": "stream",
     "text": [
      "Array:\n",
      "[[1 2 3]\n",
      " [4 5 6]\n",
      " [7 8 9]]\n",
      "Shape:\n",
      "(3, 3)\n",
      "Data Type:\n",
      "int32\n",
      "hh[0] is:\n",
      "[1 2 3]\n",
      "hh[0][1] is:\n",
      "2\n",
      "All Rows + First Columns Elements =\n",
      "[1 4 7]\n",
      "0, 1 Rows + Second Columns Elements =\n",
      "[[2 3]\n",
      " [5 6]]\n",
      "0, 1 Rows + 2, 3 Columns Elements =\n",
      "[[2 3]\n",
      " [5 6]]\n"
     ]
    }
   ],
   "source": [
    "hh = np.array(([1,2,3],[4,5,6],[7,8,9]))\n",
    "print(\"Array:\")\n",
    "print(hh)\n",
    "print(\"Shape:\")\n",
    "print(hh.shape)\n",
    "print(\"Data Type:\")\n",
    "print(hh.dtype)\n",
    "\n",
    "## Accessing the Elements\n",
    "print(\"hh[0] is:\")\n",
    "print(hh[0])\n",
    "print(\"hh[0][1] is:\")\n",
    "print(hh[0][1])\n",
    "\n",
    "## Need only Columns Part\n",
    "print(\"All Rows + First Columns Elements =\")\n",
    "print(hh[:,0])\n",
    "print(\"0, 1 Rows + Second Columns Elements =\")\n",
    "print(hh[0:2,1:])\n",
    "print(\"0, 1 Rows + 2, 3 Columns Elements =\")\n",
    "print(hh[0:2,1:])"
   ]
  },
  {
   "cell_type": "markdown",
   "id": "12ea5903",
   "metadata": {},
   "source": [
    "## Numpy Operations"
   ]
  },
  {
   "cell_type": "code",
   "execution_count": 8,
   "id": "b62207e6",
   "metadata": {},
   "outputs": [
    {
     "name": "stdout",
     "output_type": "stream",
     "text": [
      "First Array: [1 2 3]\n",
      "Second Array: [5 6 7]\n",
      "Add 2 to Each Element of First Array: [3 4 5]\n",
      "Add First and Second Array: [ 6  8 10]\n",
      "Multiply 2 to Each Element of First Array: [2 4 6]\n",
      "Power 2 to Each Element of First Array: [1 4 9]\n",
      "Mean of First Array: 2.0\n",
      "Sum of First Array: 6\n"
     ]
    }
   ],
   "source": [
    "ii = np.array([1,2,3])\n",
    "jj = np.array([5,6,7])\n",
    "print(\"First Array:\",ii)\n",
    "print(\"Second Array:\",jj)\n",
    "print(\"Add 2 to Each Element of First Array:\",ii+2)\n",
    "print(\"Add First and Second Array:\",ii+jj)\n",
    "# Adding two arrays the arrays must be of same size\n",
    "print(\"Multiply 2 to Each Element of First Array:\",ii*2)\n",
    "print(\"Power 2 to Each Element of First Array:\",ii**2)\n",
    "\n",
    "print(\"Mean of First Array:\",ii.mean())\n",
    "print(\"Sum of First Array:\",ii.sum())"
   ]
  },
  {
   "cell_type": "markdown",
   "id": "5771c1bb",
   "metadata": {},
   "source": [
    "## Square Distance in a N-N Array"
   ]
  },
  {
   "cell_type": "markdown",
   "id": "f855c31d",
   "metadata": {},
   "source": [
    "#### Suppose we have a N-D Array and we are given to points in that Array where on those points we need to find the \"SQUARE DISTANCE\"\n",
    "\n",
    "#### First Point in that Array is [1,2,3]\n",
    "##### Second Point in that Array is [5,6,7]\n",
    "\n",
    "#### Formula of Square Distance in these to points will be: \n",
    "#### Square Root((1-5)^2 + (2-6)^2 + (3-7)^2)\n",
    "\n",
    "#### Finding this with the help of Numpy Array Operations:"
   ]
  },
  {
   "cell_type": "code",
   "execution_count": 11,
   "id": "67f443b0",
   "metadata": {},
   "outputs": [
    {
     "name": "stdout",
     "output_type": "stream",
     "text": [
      "6.928203230275509\n"
     ]
    }
   ],
   "source": [
    "squareDistance = ((ii - jj) ** 2).sum()\n",
    "squareDistance = m.sqrt(squareDistance)\n",
    "print(squareDistance)"
   ]
  },
  {
   "cell_type": "markdown",
   "id": "23b19fa7",
   "metadata": {},
   "source": [
    "## Calculate Sum(All Array Elements - Array Mean)^2"
   ]
  },
  {
   "cell_type": "code",
   "execution_count": 12,
   "id": "0ccfc990",
   "metadata": {},
   "outputs": [
    {
     "name": "stdout",
     "output_type": "stream",
     "text": [
      "14.75\n"
     ]
    }
   ],
   "source": [
    "kk = np.array([1,3,5,6])\n",
    "print(((kk - kk.mean()) ** 2).sum())"
   ]
  },
  {
   "cell_type": "markdown",
   "id": "0c1215ef",
   "metadata": {},
   "source": [
    "## Dot Product in 2-D Arrays"
   ]
  },
  {
   "cell_type": "code",
   "execution_count": 13,
   "id": "47f4afd8",
   "metadata": {},
   "outputs": [
    {
     "name": "stdout",
     "output_type": "stream",
     "text": [
      "[[ 70 100]\n",
      " [150 220]]\n"
     ]
    }
   ],
   "source": [
    "ll = np.array(([1,2],[3,4]))\n",
    "mm = np.array(([10,20],[30,40]))\n",
    "print(ll.dot(mm))"
   ]
  }
 ],
 "metadata": {
  "kernelspec": {
   "display_name": "Python 3 (ipykernel)",
   "language": "python",
   "name": "python3"
  },
  "language_info": {
   "codemirror_mode": {
    "name": "ipython",
    "version": 3
   },
   "file_extension": ".py",
   "mimetype": "text/x-python",
   "name": "python",
   "nbconvert_exporter": "python",
   "pygments_lexer": "ipython3",
   "version": "3.9.12"
  }
 },
 "nbformat": 4,
 "nbformat_minor": 5
}
