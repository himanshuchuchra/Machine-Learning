{
 "cells": [
  {
   "cell_type": "markdown",
   "id": "401f4af1",
   "metadata": {},
   "source": [
    "# Pandas | Machine Learning | Coding Ninjas"
   ]
  },
  {
   "cell_type": "code",
   "execution_count": 2,
   "id": "21aab0c2",
   "metadata": {},
   "outputs": [],
   "source": [
    "import pandas as pd\n",
    "import numpy as np"
   ]
  },
  {
   "cell_type": "markdown",
   "id": "cd88a8c8",
   "metadata": {},
   "source": [
    "## Loading Data using Pandas"
   ]
  },
  {
   "cell_type": "code",
   "execution_count": 3,
   "id": "4acad889",
   "metadata": {},
   "outputs": [
    {
     "name": "stdout",
     "output_type": "stream",
     "text": [
      "Iris Database:\n",
      "     5.1  3.5  1.4  0.2     Iris-setosa\n",
      "0    4.9  3.0  1.4  0.2     Iris-setosa\n",
      "1    4.7  3.2  1.3  0.2     Iris-setosa\n",
      "2    4.6  3.1  1.5  0.2     Iris-setosa\n",
      "3    5.0  3.6  1.4  0.2     Iris-setosa\n",
      "4    5.4  3.9  1.7  0.4     Iris-setosa\n",
      "..   ...  ...  ...  ...             ...\n",
      "144  6.7  3.0  5.2  2.3  Iris-virginica\n",
      "145  6.3  2.5  5.0  1.9  Iris-virginica\n",
      "146  6.5  3.0  5.2  2.0  Iris-virginica\n",
      "147  6.2  3.4  5.4  2.3  Iris-virginica\n",
      "148  5.9  3.0  5.1  1.8  Iris-virginica\n",
      "\n",
      "[149 rows x 5 columns]\n",
      "Iris Data Type:\n",
      "<class 'pandas.core.frame.DataFrame'>\n"
     ]
    }
   ],
   "source": [
    "iris = pd.read_csv(\"https://archive.ics.uci.edu/ml/machine-learning-databases/iris/iris.data\")\n",
    "\n",
    "print(\"Iris Database:\")\n",
    "print(iris)\n",
    "print(\"Iris Data Type:\")\n",
    "print(type(iris))"
   ]
  },
  {
   "cell_type": "markdown",
   "id": "3ca75952",
   "metadata": {},
   "source": [
    "#### Making a copy of Iris Database as if we implement any changes then it is not affected on Iris Database"
   ]
  },
  {
   "cell_type": "code",
   "execution_count": 4,
   "id": "6fb6853d",
   "metadata": {},
   "outputs": [],
   "source": [
    "df = iris.copy()"
   ]
  },
  {
   "cell_type": "markdown",
   "id": "77d07387",
   "metadata": {},
   "source": [
    "## Implementing Functions on Iris Database Copy"
   ]
  },
  {
   "cell_type": "markdown",
   "id": "a27bb7e7",
   "metadata": {},
   "source": [
    "#### Head Function"
   ]
  },
  {
   "cell_type": "code",
   "execution_count": 5,
   "id": "500b1667",
   "metadata": {},
   "outputs": [
    {
     "name": "stdout",
     "output_type": "stream",
     "text": [
      "   5.1  3.5  1.4  0.2  Iris-setosa\n",
      "0  4.9  3.0  1.4  0.2  Iris-setosa\n",
      "1  4.7  3.2  1.3  0.2  Iris-setosa\n",
      "2  4.6  3.1  1.5  0.2  Iris-setosa\n",
      "3  5.0  3.6  1.4  0.2  Iris-setosa\n",
      "4  5.4  3.9  1.7  0.4  Iris-setosa\n",
      "   5.1  3.5  1.4  0.2  Iris-setosa\n",
      "0  4.9  3.0  1.4  0.2  Iris-setosa\n",
      "1  4.7  3.2  1.3  0.2  Iris-setosa\n",
      "2  4.6  3.1  1.5  0.2  Iris-setosa\n"
     ]
    }
   ],
   "source": [
    "print(df.head())\n",
    "# By Default the rows will be 5\n",
    "\n",
    "# We can also pass rows in the empty bracket\n",
    "print(df.head(3))"
   ]
  },
  {
   "cell_type": "markdown",
   "id": "4671b03a",
   "metadata": {},
   "source": [
    "#### Column Function (Column Headings of the Table)"
   ]
  },
  {
   "cell_type": "code",
   "execution_count": 6,
   "id": "a4052335",
   "metadata": {},
   "outputs": [
    {
     "name": "stdout",
     "output_type": "stream",
     "text": [
      "Index(['5.1', '3.5', '1.4', '0.2', 'Iris-setosa'], dtype='object')\n"
     ]
    }
   ],
   "source": [
    "print(df.columns)"
   ]
  },
  {
   "cell_type": "markdown",
   "id": "b414b1d5",
   "metadata": {},
   "source": [
    "#### Index Function (Row Headings of the Table i.e. Index)"
   ]
  },
  {
   "cell_type": "code",
   "execution_count": 7,
   "id": "3fd009f4",
   "metadata": {},
   "outputs": [
    {
     "name": "stdout",
     "output_type": "stream",
     "text": [
      "RangeIndex(start=0, stop=149, step=1)\n"
     ]
    }
   ],
   "source": [
    "print(df.index)"
   ]
  },
  {
   "cell_type": "markdown",
   "id": "7d242567",
   "metadata": {},
   "source": [
    "#### As it is directly fetching first row of data as header so now we will be fetching in right way."
   ]
  },
  {
   "cell_type": "code",
   "execution_count": 8,
   "id": "d646ca54",
   "metadata": {},
   "outputs": [
    {
     "name": "stdout",
     "output_type": "stream",
     "text": [
      "      sl   sw   pl   pw     flower_type\n",
      "0    4.9  3.0  1.4  0.2     Iris-setosa\n",
      "1    4.7  3.2  1.3  0.2     Iris-setosa\n",
      "2    4.6  3.1  1.5  0.2     Iris-setosa\n",
      "3    5.0  3.6  1.4  0.2     Iris-setosa\n",
      "4    5.4  3.9  1.7  0.4     Iris-setosa\n",
      "..   ...  ...  ...  ...             ...\n",
      "144  6.7  3.0  5.2  2.3  Iris-virginica\n",
      "145  6.3  2.5  5.0  1.9  Iris-virginica\n",
      "146  6.5  3.0  5.2  2.0  Iris-virginica\n",
      "147  6.2  3.4  5.4  2.3  Iris-virginica\n",
      "148  5.9  3.0  5.1  1.8  Iris-virginica\n",
      "\n",
      "[149 rows x 5 columns]\n"
     ]
    }
   ],
   "source": [
    "df.columns = ['sl','sw','pl','pw','flower_type']\n",
    "print(df)\n",
    "\n",
    "# sl = sepal length\n",
    "# sw = sepal width\n",
    "# pl = petal length\n",
    "# pw = petal width"
   ]
  },
  {
   "cell_type": "markdown",
   "id": "c523459d",
   "metadata": {},
   "source": [
    "#### Shape Function"
   ]
  },
  {
   "cell_type": "code",
   "execution_count": 9,
   "id": "f2d8d6d0",
   "metadata": {},
   "outputs": [
    {
     "name": "stdout",
     "output_type": "stream",
     "text": [
      "Shape = (149, 5)\n"
     ]
    }
   ],
   "source": [
    "print(\"Shape =\",df.shape)"
   ]
  },
  {
   "cell_type": "markdown",
   "id": "836cdf43",
   "metadata": {},
   "source": [
    "#### Data type Function"
   ]
  },
  {
   "cell_type": "code",
   "execution_count": 10,
   "id": "4ee527be",
   "metadata": {},
   "outputs": [
    {
     "name": "stdout",
     "output_type": "stream",
     "text": [
      "sl             float64\n",
      "sw             float64\n",
      "pl             float64\n",
      "pw             float64\n",
      "flower_type     object\n",
      "dtype: object\n"
     ]
    }
   ],
   "source": [
    "print(df.dtypes)"
   ]
  },
  {
   "cell_type": "markdown",
   "id": "7dee3077",
   "metadata": {},
   "source": [
    "#### Describe Function"
   ]
  },
  {
   "cell_type": "code",
   "execution_count": 11,
   "id": "40c97522",
   "metadata": {},
   "outputs": [
    {
     "name": "stdout",
     "output_type": "stream",
     "text": [
      "               sl          sw          pl          pw\n",
      "count  149.000000  149.000000  149.000000  149.000000\n",
      "mean     5.848322    3.051007    3.774497    1.205369\n",
      "std      0.828594    0.433499    1.759651    0.761292\n",
      "min      4.300000    2.000000    1.000000    0.100000\n",
      "25%      5.100000    2.800000    1.600000    0.300000\n",
      "50%      5.800000    3.000000    4.400000    1.300000\n",
      "75%      6.400000    3.300000    5.100000    1.800000\n",
      "max      7.900000    4.400000    6.900000    2.500000\n"
     ]
    }
   ],
   "source": [
    "print(df.describe())"
   ]
  },
  {
   "cell_type": "code",
   "execution_count": 12,
   "id": "21bdf513",
   "metadata": {},
   "outputs": [
    {
     "name": "stdout",
     "output_type": "stream",
     "text": [
      "0      4.9\n",
      "1      4.7\n",
      "2      4.6\n",
      "3      5.0\n",
      "4      5.4\n",
      "      ... \n",
      "144    6.7\n",
      "145    6.3\n",
      "146    6.5\n",
      "147    6.2\n",
      "148    5.9\n",
      "Name: sl, Length: 149, dtype: float64\n",
      "0      4.9\n",
      "1      4.7\n",
      "2      4.6\n",
      "3      5.0\n",
      "4      5.4\n",
      "      ... \n",
      "144    6.7\n",
      "145    6.3\n",
      "146    6.5\n",
      "147    6.2\n",
      "148    5.9\n",
      "Name: sl, Length: 149, dtype: float64\n"
     ]
    }
   ],
   "source": [
    "# Accessing a particular column\n",
    "\n",
    "#Two ways to access\n",
    "print(df.sl)\n",
    "print(df[\"sl\"])"
   ]
  },
  {
   "cell_type": "markdown",
   "id": "c95c7ddf",
   "metadata": {},
   "source": [
    "#### isNull Function"
   ]
  },
  {
   "cell_type": "code",
   "execution_count": 13,
   "id": "65298a27",
   "metadata": {},
   "outputs": [
    {
     "name": "stdout",
     "output_type": "stream",
     "text": [
      "        sl     sw     pl     pw  flower_type\n",
      "0    False  False  False  False        False\n",
      "1    False  False  False  False        False\n",
      "2    False  False  False  False        False\n",
      "3    False  False  False  False        False\n",
      "4    False  False  False  False        False\n",
      "..     ...    ...    ...    ...          ...\n",
      "144  False  False  False  False        False\n",
      "145  False  False  False  False        False\n",
      "146  False  False  False  False        False\n",
      "147  False  False  False  False        False\n",
      "148  False  False  False  False        False\n",
      "\n",
      "[149 rows x 5 columns]\n",
      "sl             0\n",
      "sw             0\n",
      "pl             0\n",
      "pw             0\n",
      "flower_type    0\n",
      "dtype: int64\n"
     ]
    }
   ],
   "source": [
    "print(df.isnull())\n",
    "\n",
    "# We can also fetch that how many null entries are (column wise)\n",
    "print(df.isnull().sum())"
   ]
  },
  {
   "cell_type": "markdown",
   "id": "4dcc31fb",
   "metadata": {},
   "source": [
    "#### iloc Function (pron. \"eye lock\")"
   ]
  },
  {
   "cell_type": "markdown",
   "id": "85c030f2",
   "metadata": {},
   "source": [
    "#### iloc is used for fetching a particular data also called slicing the data."
   ]
  },
  {
   "cell_type": "code",
   "execution_count": 14,
   "id": "715a8e0a",
   "metadata": {},
   "outputs": [
    {
     "name": "stdout",
     "output_type": "stream",
     "text": [
      "    pl   pw\n",
      "1  1.3  0.2\n",
      "2  1.5  0.2\n",
      "3  1.4  0.2\n"
     ]
    }
   ],
   "source": [
    "print(df.iloc[1:4,2:4])\n",
    "\n",
    "# First argument = Rows\n",
    "# Second argument = Columns"
   ]
  },
  {
   "cell_type": "markdown",
   "id": "8fd5de7c",
   "metadata": {},
   "source": [
    "## Drop Row Data in Iris Data Copy"
   ]
  },
  {
   "cell_type": "markdown",
   "id": "8b25ad07",
   "metadata": {},
   "source": [
    "#### Deleting Rows (Drop by Labels)"
   ]
  },
  {
   "cell_type": "code",
   "execution_count": 15,
   "id": "cf847164",
   "metadata": {},
   "outputs": [
    {
     "name": "stdout",
     "output_type": "stream",
     "text": [
      "      sl   sw   pl   pw     flower_type\n",
      "0    4.9  3.0  1.4  0.2     Iris-setosa\n",
      "1    4.7  3.2  1.3  0.2     Iris-setosa\n",
      "2    4.6  3.1  1.5  0.2     Iris-setosa\n",
      "3    5.0  3.6  1.4  0.2     Iris-setosa\n",
      "4    5.4  3.9  1.7  0.4     Iris-setosa\n",
      "..   ...  ...  ...  ...             ...\n",
      "144  6.7  3.0  5.2  2.3  Iris-virginica\n",
      "145  6.3  2.5  5.0  1.9  Iris-virginica\n",
      "146  6.5  3.0  5.2  2.0  Iris-virginica\n",
      "147  6.2  3.4  5.4  2.3  Iris-virginica\n",
      "148  5.9  3.0  5.1  1.8  Iris-virginica\n",
      "\n",
      "[149 rows x 5 columns]\n",
      "      sl   sw   pl   pw     flower_type\n",
      "0    4.9  3.0  1.4  0.2     Iris-setosa\n",
      "1    4.7  3.2  1.3  0.2     Iris-setosa\n",
      "2    4.6  3.1  1.5  0.2     Iris-setosa\n",
      "3    5.0  3.6  1.4  0.2     Iris-setosa\n",
      "4    5.4  3.9  1.7  0.4     Iris-setosa\n",
      "..   ...  ...  ...  ...             ...\n",
      "144  6.7  3.0  5.2  2.3  Iris-virginica\n",
      "145  6.3  2.5  5.0  1.9  Iris-virginica\n",
      "146  6.5  3.0  5.2  2.0  Iris-virginica\n",
      "147  6.2  3.4  5.4  2.3  Iris-virginica\n",
      "148  5.9  3.0  5.1  1.8  Iris-virginica\n",
      "\n",
      "[149 rows x 5 columns]\n"
     ]
    }
   ],
   "source": [
    "print(df)\n",
    "df.drop(0)\n",
    "print(df)"
   ]
  },
  {
   "cell_type": "markdown",
   "id": "d212724c",
   "metadata": {},
   "source": [
    "#### Now we can see the above scenario that the data in \"df\" is not changing it is making the copy of it and not changing the actual \"df\" database. Now if you want to change in database \"df\" itself then pass another argument i.e. inplace = True."
   ]
  },
  {
   "cell_type": "code",
   "execution_count": 16,
   "id": "2a637ed6",
   "metadata": {},
   "outputs": [
    {
     "name": "stdout",
     "output_type": "stream",
     "text": [
      "      sl   sw   pl   pw     flower_type\n",
      "0    4.9  3.0  1.4  0.2     Iris-setosa\n",
      "1    4.7  3.2  1.3  0.2     Iris-setosa\n",
      "2    4.6  3.1  1.5  0.2     Iris-setosa\n",
      "3    5.0  3.6  1.4  0.2     Iris-setosa\n",
      "4    5.4  3.9  1.7  0.4     Iris-setosa\n",
      "..   ...  ...  ...  ...             ...\n",
      "144  6.7  3.0  5.2  2.3  Iris-virginica\n",
      "145  6.3  2.5  5.0  1.9  Iris-virginica\n",
      "146  6.5  3.0  5.2  2.0  Iris-virginica\n",
      "147  6.2  3.4  5.4  2.3  Iris-virginica\n",
      "148  5.9  3.0  5.1  1.8  Iris-virginica\n",
      "\n",
      "[149 rows x 5 columns]\n",
      "      sl   sw   pl   pw     flower_type\n",
      "1    4.7  3.2  1.3  0.2     Iris-setosa\n",
      "2    4.6  3.1  1.5  0.2     Iris-setosa\n",
      "3    5.0  3.6  1.4  0.2     Iris-setosa\n",
      "4    5.4  3.9  1.7  0.4     Iris-setosa\n",
      "5    4.6  3.4  1.4  0.3     Iris-setosa\n",
      "..   ...  ...  ...  ...             ...\n",
      "144  6.7  3.0  5.2  2.3  Iris-virginica\n",
      "145  6.3  2.5  5.0  1.9  Iris-virginica\n",
      "146  6.5  3.0  5.2  2.0  Iris-virginica\n",
      "147  6.2  3.4  5.4  2.3  Iris-virginica\n",
      "148  5.9  3.0  5.1  1.8  Iris-virginica\n",
      "\n",
      "[148 rows x 5 columns]\n"
     ]
    }
   ],
   "source": [
    "print(df)\n",
    "df.drop(0, inplace = True)\n",
    "print(df)"
   ]
  },
  {
   "cell_type": "markdown",
   "id": "c43680d9",
   "metadata": {},
   "source": [
    "#### NOTE: Now as we can see the complete 0 Row is deleted from the database including the 0 index.\n",
    "\n",
    "#### REMEMBER: In this dataset 0 is not the position 0 is the label we are deleted complete row with the label and after this we can not access 0 row anymore."
   ]
  },
  {
   "cell_type": "markdown",
   "id": "2f03fd43",
   "metadata": {},
   "source": [
    "#### Deleting Rows (Drop by Positions)"
   ]
  },
  {
   "cell_type": "code",
   "execution_count": 17,
   "id": "93dee4bc",
   "metadata": {},
   "outputs": [
    {
     "name": "stdout",
     "output_type": "stream",
     "text": [
      "1\n",
      "None\n",
      "      sl   sw   pl   pw     flower_type\n",
      "2    4.6  3.1  1.5  0.2     Iris-setosa\n",
      "3    5.0  3.6  1.4  0.2     Iris-setosa\n",
      "4    5.4  3.9  1.7  0.4     Iris-setosa\n",
      "5    4.6  3.4  1.4  0.3     Iris-setosa\n",
      "6    5.0  3.4  1.5  0.2     Iris-setosa\n",
      "..   ...  ...  ...  ...             ...\n",
      "144  6.7  3.0  5.2  2.3  Iris-virginica\n",
      "145  6.3  2.5  5.0  1.9  Iris-virginica\n",
      "146  6.5  3.0  5.2  2.0  Iris-virginica\n",
      "147  6.2  3.4  5.4  2.3  Iris-virginica\n",
      "148  5.9  3.0  5.1  1.8  Iris-virginica\n",
      "\n",
      "[147 rows x 5 columns]\n"
     ]
    }
   ],
   "source": [
    "print(df.index[0])\n",
    "print(df.drop(df.index[0], inplace = True))\n",
    "print(df)"
   ]
  },
  {
   "cell_type": "markdown",
   "id": "3d49bedd",
   "metadata": {},
   "source": [
    "## Applying Conditions on DataFrame"
   ]
  },
  {
   "cell_type": "code",
   "execution_count": 18,
   "id": "1e453d4a",
   "metadata": {},
   "outputs": [
    {
     "name": "stdout",
     "output_type": "stream",
     "text": [
      "2      False\n",
      "3      False\n",
      "4      False\n",
      "5      False\n",
      "6      False\n",
      "       ...  \n",
      "144     True\n",
      "145     True\n",
      "146     True\n",
      "147     True\n",
      "148     True\n",
      "Name: sl, Length: 147, dtype: bool\n",
      "      sl   sw   pl   pw      flower_type\n",
      "13   5.8  4.0  1.2  0.2      Iris-setosa\n",
      "14   5.7  4.4  1.5  0.4      Iris-setosa\n",
      "17   5.7  3.8  1.7  0.3      Iris-setosa\n",
      "49   7.0  3.2  4.7  1.4  Iris-versicolor\n",
      "50   6.4  3.2  4.5  1.5  Iris-versicolor\n",
      "..   ...  ...  ...  ...              ...\n",
      "144  6.7  3.0  5.2  2.3   Iris-virginica\n",
      "145  6.3  2.5  5.0  1.9   Iris-virginica\n",
      "146  6.5  3.0  5.2  2.0   Iris-virginica\n",
      "147  6.2  3.4  5.4  2.3   Iris-virginica\n",
      "148  5.9  3.0  5.1  1.8   Iris-virginica\n",
      "\n",
      "[91 rows x 5 columns]\n"
     ]
    }
   ],
   "source": [
    "print(df.sl > 5.5)\n",
    "\n",
    "# If we want only rows to be shown which satifies the above condition\n",
    "print(df[df.sl > 5.5])"
   ]
  },
  {
   "cell_type": "code",
   "execution_count": 19,
   "id": "2292adce",
   "metadata": {},
   "outputs": [
    {
     "name": "stdout",
     "output_type": "stream",
     "text": [
      "      sl   sw   pl   pw     flower_type\n",
      "99   6.3  3.3  6.0  2.5  Iris-virginica\n",
      "100  5.8  2.7  5.1  1.9  Iris-virginica\n",
      "101  7.1  3.0  5.9  2.1  Iris-virginica\n",
      "102  6.3  2.9  5.6  1.8  Iris-virginica\n",
      "103  6.5  3.0  5.8  2.2  Iris-virginica\n",
      "104  7.6  3.0  6.6  2.1  Iris-virginica\n",
      "105  4.9  2.5  4.5  1.7  Iris-virginica\n",
      "106  7.3  2.9  6.3  1.8  Iris-virginica\n",
      "107  6.7  2.5  5.8  1.8  Iris-virginica\n",
      "108  7.2  3.6  6.1  2.5  Iris-virginica\n",
      "109  6.5  3.2  5.1  2.0  Iris-virginica\n",
      "110  6.4  2.7  5.3  1.9  Iris-virginica\n",
      "111  6.8  3.0  5.5  2.1  Iris-virginica\n",
      "112  5.7  2.5  5.0  2.0  Iris-virginica\n",
      "113  5.8  2.8  5.1  2.4  Iris-virginica\n",
      "114  6.4  3.2  5.3  2.3  Iris-virginica\n",
      "115  6.5  3.0  5.5  1.8  Iris-virginica\n",
      "116  7.7  3.8  6.7  2.2  Iris-virginica\n",
      "117  7.7  2.6  6.9  2.3  Iris-virginica\n",
      "118  6.0  2.2  5.0  1.5  Iris-virginica\n",
      "119  6.9  3.2  5.7  2.3  Iris-virginica\n",
      "120  5.6  2.8  4.9  2.0  Iris-virginica\n",
      "121  7.7  2.8  6.7  2.0  Iris-virginica\n",
      "122  6.3  2.7  4.9  1.8  Iris-virginica\n",
      "123  6.7  3.3  5.7  2.1  Iris-virginica\n",
      "124  7.2  3.2  6.0  1.8  Iris-virginica\n",
      "125  6.2  2.8  4.8  1.8  Iris-virginica\n",
      "126  6.1  3.0  4.9  1.8  Iris-virginica\n",
      "127  6.4  2.8  5.6  2.1  Iris-virginica\n",
      "128  7.2  3.0  5.8  1.6  Iris-virginica\n",
      "129  7.4  2.8  6.1  1.9  Iris-virginica\n",
      "130  7.9  3.8  6.4  2.0  Iris-virginica\n",
      "131  6.4  2.8  5.6  2.2  Iris-virginica\n",
      "132  6.3  2.8  5.1  1.5  Iris-virginica\n",
      "133  6.1  2.6  5.6  1.4  Iris-virginica\n",
      "134  7.7  3.0  6.1  2.3  Iris-virginica\n",
      "135  6.3  3.4  5.6  2.4  Iris-virginica\n",
      "136  6.4  3.1  5.5  1.8  Iris-virginica\n",
      "137  6.0  3.0  4.8  1.8  Iris-virginica\n",
      "138  6.9  3.1  5.4  2.1  Iris-virginica\n",
      "139  6.7  3.1  5.6  2.4  Iris-virginica\n",
      "140  6.9  3.1  5.1  2.3  Iris-virginica\n",
      "141  5.8  2.7  5.1  1.9  Iris-virginica\n",
      "142  6.8  3.2  5.9  2.3  Iris-virginica\n",
      "143  6.7  3.3  5.7  2.5  Iris-virginica\n",
      "144  6.7  3.0  5.2  2.3  Iris-virginica\n",
      "145  6.3  2.5  5.0  1.9  Iris-virginica\n",
      "146  6.5  3.0  5.2  2.0  Iris-virginica\n",
      "147  6.2  3.4  5.4  2.3  Iris-virginica\n",
      "148  5.9  3.0  5.1  1.8  Iris-virginica\n",
      "\n",
      "             sl         sw         pl        pw\n",
      "count  50.00000  50.000000  50.000000  50.00000\n",
      "mean    6.58800   2.974000   5.552000   2.02600\n",
      "std     0.63588   0.322497   0.551895   0.27465\n",
      "min     4.90000   2.200000   4.500000   1.40000\n",
      "25%     6.22500   2.800000   5.100000   1.80000\n",
      "50%     6.50000   3.000000   5.550000   2.00000\n",
      "75%     6.90000   3.175000   5.875000   2.30000\n",
      "max     7.90000   3.800000   6.900000   2.50000\n"
     ]
    }
   ],
   "source": [
    "print(df[df.flower_type == 'Iris-virginica'])\n",
    "print()\n",
    "\n",
    "# Now we want to find \"describe\" for this \"Iris-virginica\" particular flower\n",
    "print(df[df.flower_type == 'Iris-virginica'].describe())"
   ]
  },
  {
   "cell_type": "markdown",
   "id": "ea03633a",
   "metadata": {},
   "source": [
    "## Add Row Data in Iris Data Copy"
   ]
  },
  {
   "cell_type": "code",
   "execution_count": 20,
   "id": "99728961",
   "metadata": {},
   "outputs": [
    {
     "name": "stdout",
     "output_type": "stream",
     "text": [
      "sl                     4.6\n",
      "sw                     3.1\n",
      "pl                     1.5\n",
      "pw                     0.2\n",
      "flower_type    Iris-setosa\n",
      "Name: 2, dtype: object\n",
      "      sl   sw   pl   pw     flower_type\n",
      "2    4.6  3.1  1.5  0.2     Iris-setosa\n",
      "3    5.0  3.6  1.4  0.2     Iris-setosa\n",
      "4    5.4  3.9  1.7  0.4     Iris-setosa\n",
      "5    4.6  3.4  1.4  0.3     Iris-setosa\n",
      "6    5.0  3.4  1.5  0.2     Iris-setosa\n",
      "..   ...  ...  ...  ...             ...\n",
      "145  6.3  2.5  5.0  1.9  Iris-virginica\n",
      "146  6.5  3.0  5.2  2.0  Iris-virginica\n",
      "147  6.2  3.4  5.4  2.3  Iris-virginica\n",
      "148  5.9  3.0  5.1  1.8  Iris-virginica\n",
      "0    1.0  2.0  3.0  4.0     Iris-setosa\n",
      "\n",
      "[148 rows x 5 columns]\n"
     ]
    }
   ],
   "source": [
    "# Difference b/w iloc and loc\n",
    "# iloc is index based\n",
    "# loc is labeled based\n",
    "print(df.loc[2])\n",
    "\n",
    "# Adding data\n",
    "df.loc[0] = [1,2,3,4,\"Iris-setosa\"]\n",
    "print(df)"
   ]
  },
  {
   "cell_type": "markdown",
   "id": "b9e64ea8",
   "metadata": {},
   "source": [
    "## Reset Index"
   ]
  },
  {
   "cell_type": "code",
   "execution_count": 21,
   "id": "7dd9bba5",
   "metadata": {},
   "outputs": [
    {
     "name": "stdout",
     "output_type": "stream",
     "text": [
      "     index   sl   sw   pl   pw     flower_type\n",
      "0        2  4.6  3.1  1.5  0.2     Iris-setosa\n",
      "1        3  5.0  3.6  1.4  0.2     Iris-setosa\n",
      "2        4  5.4  3.9  1.7  0.4     Iris-setosa\n",
      "3        5  4.6  3.4  1.4  0.3     Iris-setosa\n",
      "4        6  5.0  3.4  1.5  0.2     Iris-setosa\n",
      "..     ...  ...  ...  ...  ...             ...\n",
      "143    145  6.3  2.5  5.0  1.9  Iris-virginica\n",
      "144    146  6.5  3.0  5.2  2.0  Iris-virginica\n",
      "145    147  6.2  3.4  5.4  2.3  Iris-virginica\n",
      "146    148  5.9  3.0  5.1  1.8  Iris-virginica\n",
      "147      0  1.0  2.0  3.0  4.0     Iris-setosa\n",
      "\n",
      "[148 rows x 6 columns]\n",
      "      sl   sw   pl   pw     flower_type\n",
      "2    4.6  3.1  1.5  0.2     Iris-setosa\n",
      "3    5.0  3.6  1.4  0.2     Iris-setosa\n",
      "4    5.4  3.9  1.7  0.4     Iris-setosa\n",
      "5    4.6  3.4  1.4  0.3     Iris-setosa\n",
      "6    5.0  3.4  1.5  0.2     Iris-setosa\n",
      "..   ...  ...  ...  ...             ...\n",
      "145  6.3  2.5  5.0  1.9  Iris-virginica\n",
      "146  6.5  3.0  5.2  2.0  Iris-virginica\n",
      "147  6.2  3.4  5.4  2.3  Iris-virginica\n",
      "148  5.9  3.0  5.1  1.8  Iris-virginica\n",
      "0    1.0  2.0  3.0  4.0     Iris-setosa\n",
      "\n",
      "[148 rows x 5 columns]\n"
     ]
    }
   ],
   "source": [
    "print(df.reset_index())\n",
    "print(df)"
   ]
  },
  {
   "cell_type": "markdown",
   "id": "1b576193",
   "metadata": {},
   "source": [
    "#### Now there are some issues while reseting the index\n",
    "\n",
    "#### 1. A new index column of old index has been added which we don't want. So the solution to this is we have to pass an argument i.e. drop = True\n",
    "#### 2. The changes are not done in the actual \"df\" it is making the copy so we have to pass an another argument i.e. inplace = True"
   ]
  },
  {
   "cell_type": "code",
   "execution_count": 22,
   "id": "48b3afd3",
   "metadata": {},
   "outputs": [
    {
     "name": "stdout",
     "output_type": "stream",
     "text": [
      "None\n",
      "      sl   sw   pl   pw     flower_type\n",
      "0    4.6  3.1  1.5  0.2     Iris-setosa\n",
      "1    5.0  3.6  1.4  0.2     Iris-setosa\n",
      "2    5.4  3.9  1.7  0.4     Iris-setosa\n",
      "3    4.6  3.4  1.4  0.3     Iris-setosa\n",
      "4    5.0  3.4  1.5  0.2     Iris-setosa\n",
      "..   ...  ...  ...  ...             ...\n",
      "143  6.3  2.5  5.0  1.9  Iris-virginica\n",
      "144  6.5  3.0  5.2  2.0  Iris-virginica\n",
      "145  6.2  3.4  5.4  2.3  Iris-virginica\n",
      "146  5.9  3.0  5.1  1.8  Iris-virginica\n",
      "147  1.0  2.0  3.0  4.0     Iris-setosa\n",
      "\n",
      "[148 rows x 5 columns]\n"
     ]
    }
   ],
   "source": [
    "print(df.reset_index(drop = True, inplace = True))\n",
    "print(df)"
   ]
  },
  {
   "cell_type": "markdown",
   "id": "7f634850",
   "metadata": {},
   "source": [
    "## Delete Column Data in Iris Data Copy"
   ]
  },
  {
   "cell_type": "markdown",
   "id": "d68b310e",
   "metadata": {},
   "source": [
    "#### Deleting Column using Drop Function"
   ]
  },
  {
   "cell_type": "code",
   "execution_count": 23,
   "id": "32c2dda1",
   "metadata": {},
   "outputs": [
    {
     "name": "stdout",
     "output_type": "stream",
     "text": [
      "      sw   pl   pw     flower_type\n",
      "0    3.1  1.5  0.2     Iris-setosa\n",
      "1    3.6  1.4  0.2     Iris-setosa\n",
      "2    3.9  1.7  0.4     Iris-setosa\n",
      "3    3.4  1.4  0.3     Iris-setosa\n",
      "4    3.4  1.5  0.2     Iris-setosa\n",
      "..   ...  ...  ...             ...\n",
      "143  2.5  5.0  1.9  Iris-virginica\n",
      "144  3.0  5.2  2.0  Iris-virginica\n",
      "145  3.4  5.4  2.3  Iris-virginica\n",
      "146  3.0  5.1  1.8  Iris-virginica\n",
      "147  2.0  3.0  4.0     Iris-setosa\n",
      "\n",
      "[148 rows x 4 columns]\n"
     ]
    }
   ],
   "source": [
    "df.drop('sl', axis = 1, inplace = True)\n",
    "print(df)\n",
    "# axis = 1 | It shows that we have to delete column wise"
   ]
  },
  {
   "cell_type": "markdown",
   "id": "ad3d3e1c",
   "metadata": {},
   "source": [
    "#### Deleting Column using \"del\""
   ]
  },
  {
   "cell_type": "code",
   "execution_count": 24,
   "id": "eacf6bfe",
   "metadata": {},
   "outputs": [
    {
     "name": "stdout",
     "output_type": "stream",
     "text": [
      "      pl   pw     flower_type\n",
      "0    1.5  0.2     Iris-setosa\n",
      "1    1.4  0.2     Iris-setosa\n",
      "2    1.7  0.4     Iris-setosa\n",
      "3    1.4  0.3     Iris-setosa\n",
      "4    1.5  0.2     Iris-setosa\n",
      "..   ...  ...             ...\n",
      "143  5.0  1.9  Iris-virginica\n",
      "144  5.2  2.0  Iris-virginica\n",
      "145  5.4  2.3  Iris-virginica\n",
      "146  5.1  1.8  Iris-virginica\n",
      "147  3.0  4.0     Iris-setosa\n",
      "\n",
      "[148 rows x 3 columns]\n"
     ]
    }
   ],
   "source": [
    "del df['sw']\n",
    "print(df)"
   ]
  },
  {
   "cell_type": "markdown",
   "id": "fefc16e6",
   "metadata": {},
   "source": [
    "## Add Column Data in Iris Data Copy"
   ]
  },
  {
   "cell_type": "code",
   "execution_count": 25,
   "id": "7600a18a",
   "metadata": {},
   "outputs": [
    {
     "name": "stdout",
     "output_type": "stream",
     "text": [
      "      pl   pw     flower_type  diff_pl_pw\n",
      "0    1.5  0.2     Iris-setosa         1.3\n",
      "1    1.4  0.2     Iris-setosa         1.2\n",
      "2    1.7  0.4     Iris-setosa         1.3\n",
      "3    1.4  0.3     Iris-setosa         1.1\n",
      "4    1.5  0.2     Iris-setosa         1.3\n",
      "..   ...  ...             ...         ...\n",
      "143  5.0  1.9  Iris-virginica         3.1\n",
      "144  5.2  2.0  Iris-virginica         3.2\n",
      "145  5.4  2.3  Iris-virginica         3.1\n",
      "146  5.1  1.8  Iris-virginica         3.3\n",
      "147  3.0  4.0     Iris-setosa        -1.0\n",
      "\n",
      "[148 rows x 4 columns]\n"
     ]
    }
   ],
   "source": [
    "df['diff_pl_pw'] = df['pl'] - df['pw']\n",
    "print(df)"
   ]
  },
  {
   "cell_type": "markdown",
   "id": "00c98734",
   "metadata": {},
   "source": [
    "## -----Copy \"df\" database from \"Iris\"-----"
   ]
  },
  {
   "cell_type": "code",
   "execution_count": 26,
   "id": "a19399a9",
   "metadata": {},
   "outputs": [
    {
     "name": "stdout",
     "output_type": "stream",
     "text": [
      "      sl   sw   pl   pw     flower_type\n",
      "0    4.9  3.0  1.4  0.2     Iris-setosa\n",
      "1    4.7  3.2  1.3  0.2     Iris-setosa\n",
      "2    4.6  3.1  1.5  0.2     Iris-setosa\n",
      "3    5.0  3.6  1.4  0.2     Iris-setosa\n",
      "4    5.4  3.9  1.7  0.4     Iris-setosa\n",
      "..   ...  ...  ...  ...             ...\n",
      "144  6.7  3.0  5.2  2.3  Iris-virginica\n",
      "145  6.3  2.5  5.0  1.9  Iris-virginica\n",
      "146  6.5  3.0  5.2  2.0  Iris-virginica\n",
      "147  6.2  3.4  5.4  2.3  Iris-virginica\n",
      "148  5.9  3.0  5.1  1.8  Iris-virginica\n",
      "\n",
      "[149 rows x 5 columns]\n"
     ]
    }
   ],
   "source": [
    "df = iris.copy()\n",
    "df.columns = ['sl','sw','pl','pw','flower_type']\n",
    "print(df)"
   ]
  },
  {
   "cell_type": "markdown",
   "id": "a92a6115",
   "metadata": {},
   "source": [
    "## Handling NaN"
   ]
  },
  {
   "cell_type": "markdown",
   "id": "93d40b7a",
   "metadata": {},
   "source": [
    "#### As in our current \"iris\" database there is no NaN entry so we will firstly adding NaN then handling them."
   ]
  },
  {
   "cell_type": "code",
   "execution_count": 27,
   "id": "0cdab9ea",
   "metadata": {},
   "outputs": [
    {
     "name": "stdout",
     "output_type": "stream",
     "text": [
      "      sl   sw   pl   pw     flower_type\n",
      "0    4.9  3.0  1.4  0.2     Iris-setosa\n",
      "1    4.7  3.2  1.3  0.2     Iris-setosa\n",
      "2    4.6  NaN  NaN  0.2     Iris-setosa\n",
      "3    5.0  NaN  NaN  0.2     Iris-setosa\n",
      "4    5.4  3.9  1.7  0.4     Iris-setosa\n",
      "..   ...  ...  ...  ...             ...\n",
      "144  6.7  3.0  5.2  2.3  Iris-virginica\n",
      "145  6.3  2.5  5.0  1.9  Iris-virginica\n",
      "146  6.5  3.0  5.2  2.0  Iris-virginica\n",
      "147  6.2  3.4  5.4  2.3  Iris-virginica\n",
      "148  5.9  3.0  5.1  1.8  Iris-virginica\n",
      "\n",
      "[149 rows x 5 columns]\n"
     ]
    }
   ],
   "source": [
    "df.iloc[2:4,1:3] = np.nan\n",
    "print(df)"
   ]
  },
  {
   "cell_type": "code",
   "execution_count": 28,
   "id": "6de0eb4f",
   "metadata": {},
   "outputs": [
    {
     "name": "stdout",
     "output_type": "stream",
     "text": [
      "               sl          sw          pl          pw\n",
      "count  149.000000  147.000000  147.000000  149.000000\n",
      "mean     5.848322    3.046939    3.806122    1.205369\n",
      "std      0.828594    0.434048    1.750351    0.761292\n",
      "min      4.300000    2.000000    1.000000    0.100000\n",
      "25%      5.100000    2.800000    1.600000    0.300000\n",
      "50%      5.800000    3.000000    4.400000    1.300000\n",
      "75%      6.400000    3.300000    5.100000    1.800000\n",
      "max      7.900000    4.400000    6.900000    2.500000\n"
     ]
    }
   ],
   "source": [
    "print(df.describe())"
   ]
  },
  {
   "cell_type": "markdown",
   "id": "a8c5d22b",
   "metadata": {},
   "source": [
    "#### dropna Function\n",
    "\n",
    "#### Deleting all the rows which have NaN entries. In our case Row 2 and 3 will be deleted"
   ]
  },
  {
   "cell_type": "code",
   "execution_count": 29,
   "id": "ee821d11",
   "metadata": {},
   "outputs": [
    {
     "name": "stdout",
     "output_type": "stream",
     "text": [
      "      sl   sw   pl   pw     flower_type\n",
      "0    4.9  3.0  1.4  0.2     Iris-setosa\n",
      "1    4.7  3.2  1.3  0.2     Iris-setosa\n",
      "4    5.4  3.9  1.7  0.4     Iris-setosa\n",
      "5    4.6  3.4  1.4  0.3     Iris-setosa\n",
      "6    5.0  3.4  1.5  0.2     Iris-setosa\n",
      "..   ...  ...  ...  ...             ...\n",
      "144  6.7  3.0  5.2  2.3  Iris-virginica\n",
      "145  6.3  2.5  5.0  1.9  Iris-virginica\n",
      "146  6.5  3.0  5.2  2.0  Iris-virginica\n",
      "147  6.2  3.4  5.4  2.3  Iris-virginica\n",
      "148  5.9  3.0  5.1  1.8  Iris-virginica\n",
      "\n",
      "[147 rows x 5 columns]\n"
     ]
    }
   ],
   "source": [
    "df.dropna(inplace = True)\n",
    "print(df)"
   ]
  },
  {
   "cell_type": "code",
   "execution_count": 30,
   "id": "a3180c53",
   "metadata": {},
   "outputs": [
    {
     "name": "stdout",
     "output_type": "stream",
     "text": [
      "None\n",
      "      sl   sw   pl   pw     flower_type\n",
      "0    4.9  3.0  1.4  0.2     Iris-setosa\n",
      "1    4.7  3.2  1.3  0.2     Iris-setosa\n",
      "2    5.4  NaN  NaN  0.4     Iris-setosa\n",
      "3    4.6  NaN  NaN  0.3     Iris-setosa\n",
      "4    5.0  3.4  1.5  0.2     Iris-setosa\n",
      "..   ...  ...  ...  ...             ...\n",
      "142  6.7  3.0  5.2  2.3  Iris-virginica\n",
      "143  6.3  2.5  5.0  1.9  Iris-virginica\n",
      "144  6.5  3.0  5.2  2.0  Iris-virginica\n",
      "145  6.2  3.4  5.4  2.3  Iris-virginica\n",
      "146  5.9  3.0  5.1  1.8  Iris-virginica\n",
      "\n",
      "[147 rows x 5 columns]\n"
     ]
    }
   ],
   "source": [
    "print(df.reset_index(drop = True, inplace = True))\n",
    "df.iloc[2:4,1:3] = np.nan\n",
    "print(df)"
   ]
  },
  {
   "cell_type": "markdown",
   "id": "df39d8b5",
   "metadata": {},
   "source": [
    "#### Now, we don't want to drop that rows which are having NaN entries instead of droping i want to insert some values on those elements.\n",
    "\n",
    "#### There are several ways we can add data.\n",
    "#### 1. We can add MEAN of that particular column on those entries.\n",
    "#### 2. We can add MOST OCCURING NUMBER of that particular column on those entries.\n",
    "#### 3. We can add MEAN of that particular column with that partcular flower on those entries.\n",
    "\n",
    "#### Currently I am using 1 from above for sw and 3 for pl."
   ]
  },
  {
   "cell_type": "code",
   "execution_count": 31,
   "id": "75ae39ee",
   "metadata": {},
   "outputs": [
    {
     "name": "stdout",
     "output_type": "stream",
     "text": [
      "      sl        sw        pl   pw     flower_type\n",
      "0    4.9  3.000000  1.400000  0.2     Iris-setosa\n",
      "1    4.7  3.200000  1.300000  0.2     Iris-setosa\n",
      "2    5.4  3.038621  1.462222  0.4     Iris-setosa\n",
      "3    4.6  3.038621  1.462222  0.3     Iris-setosa\n",
      "4    5.0  3.400000  1.500000  0.2     Iris-setosa\n",
      "..   ...       ...       ...  ...             ...\n",
      "142  6.7  3.000000  5.200000  2.3  Iris-virginica\n",
      "143  6.3  2.500000  5.000000  1.9  Iris-virginica\n",
      "144  6.5  3.000000  5.200000  2.0  Iris-virginica\n",
      "145  6.2  3.400000  5.400000  2.3  Iris-virginica\n",
      "146  5.9  3.000000  5.100000  1.8  Iris-virginica\n",
      "\n",
      "[147 rows x 5 columns]\n"
     ]
    }
   ],
   "source": [
    "df.sw.fillna(df.sw.mean(), inplace = True)\n",
    "df.pl.fillna(df[df.flower_type == 'Iris-setosa'].pl.mean(),inplace = True)\n",
    "print(df)"
   ]
  },
  {
   "cell_type": "markdown",
   "id": "103e2feb",
   "metadata": {},
   "source": [
    "## Handling Strings"
   ]
  },
  {
   "cell_type": "markdown",
   "id": "cd7bb9e5",
   "metadata": {},
   "source": [
    "#### Suppose we have a new column i.e. Gender and in that we have two entries i.e. male and female. Now we want to change these entries to 0,1 respectively."
   ]
  },
  {
   "cell_type": "markdown",
   "id": "e0b3f9ee",
   "metadata": {},
   "source": [
    "#### Creating a new column Gender"
   ]
  },
  {
   "cell_type": "code",
   "execution_count": 35,
   "id": "631f557e",
   "metadata": {},
   "outputs": [
    {
     "name": "stdout",
     "output_type": "stream",
     "text": [
      "      sl        sw        pl   pw     flower_type  Gender\n",
      "0    4.9  3.000000  1.400000  0.2     Iris-setosa  Female\n",
      "1    4.7  3.200000  1.300000  0.2     Iris-setosa  Female\n",
      "2    5.4  3.038621  1.462222  0.4     Iris-setosa  Female\n",
      "3    4.6  3.038621  1.462222  0.3     Iris-setosa  Female\n",
      "4    5.0  3.400000  1.500000  0.2     Iris-setosa  Female\n",
      "..   ...       ...       ...  ...             ...     ...\n",
      "142  6.7  3.000000  5.200000  2.3  Iris-virginica    Male\n",
      "143  6.3  2.500000  5.000000  1.9  Iris-virginica    Male\n",
      "144  6.5  3.000000  5.200000  2.0  Iris-virginica    Male\n",
      "145  6.2  3.400000  5.400000  2.3  Iris-virginica    Male\n",
      "146  5.9  3.000000  5.100000  1.8  Iris-virginica    Male\n",
      "\n",
      "[147 rows x 6 columns]\n"
     ]
    }
   ],
   "source": [
    "df['Gender'] = 'Male'\n",
    "df.iloc[0:10,5] = 'Female'\n",
    "print(df)"
   ]
  },
  {
   "cell_type": "markdown",
   "id": "fd6558ff",
   "metadata": {},
   "source": [
    "#### Converting Male to 0 and Female to 1"
   ]
  },
  {
   "cell_type": "code",
   "execution_count": 36,
   "id": "75c09533",
   "metadata": {},
   "outputs": [
    {
     "name": "stdout",
     "output_type": "stream",
     "text": [
      "      sl        sw        pl   pw     flower_type  Gender  Sex\n",
      "0    4.9  3.000000  1.400000  0.2     Iris-setosa  Female    1\n",
      "1    4.7  3.200000  1.300000  0.2     Iris-setosa  Female    1\n",
      "2    5.4  3.038621  1.462222  0.4     Iris-setosa  Female    1\n",
      "3    4.6  3.038621  1.462222  0.3     Iris-setosa  Female    1\n",
      "4    5.0  3.400000  1.500000  0.2     Iris-setosa  Female    1\n",
      "..   ...       ...       ...  ...             ...     ...  ...\n",
      "142  6.7  3.000000  5.200000  2.3  Iris-virginica    Male    0\n",
      "143  6.3  2.500000  5.000000  1.9  Iris-virginica    Male    0\n",
      "144  6.5  3.000000  5.200000  2.0  Iris-virginica    Male    0\n",
      "145  6.2  3.400000  5.400000  2.3  Iris-virginica    Male    0\n",
      "146  5.9  3.000000  5.100000  1.8  Iris-virginica    Male    0\n",
      "\n",
      "[147 rows x 7 columns]\n"
     ]
    }
   ],
   "source": [
    "def genderFunction(str):\n",
    "    if str == 'Male':\n",
    "        return 0\n",
    "    else:\n",
    "        return 1\n",
    "\n",
    "df['Sex'] = df.Gender.apply(genderFunction)\n",
    "print(df)"
   ]
  },
  {
   "cell_type": "markdown",
   "id": "e6d8ab65",
   "metadata": {},
   "source": [
    "#### So now we can easily perform some calculations around Gender male and female."
   ]
  }
 ],
 "metadata": {
  "kernelspec": {
   "display_name": "Python 3 (ipykernel)",
   "language": "python",
   "name": "python3"
  },
  "language_info": {
   "codemirror_mode": {
    "name": "ipython",
    "version": 3
   },
   "file_extension": ".py",
   "mimetype": "text/x-python",
   "name": "python",
   "nbconvert_exporter": "python",
   "pygments_lexer": "ipython3",
   "version": "3.9.12"
  }
 },
 "nbformat": 4,
 "nbformat_minor": 5
}
