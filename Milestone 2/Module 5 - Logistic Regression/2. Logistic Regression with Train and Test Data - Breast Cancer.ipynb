{
 "cells": [
  {
   "cell_type": "markdown",
   "id": "c3303273",
   "metadata": {},
   "source": [
    "# Logistic Regression | Machine Learning | Coding Ninjas"
   ]
  },
  {
   "cell_type": "code",
   "execution_count": 1,
   "id": "5abf7d23",
   "metadata": {},
   "outputs": [],
   "source": [
    "import numpy as np\n",
    "import pandas as pd\n",
    "from sklearn import datasets\n",
    "from sklearn.linear_model import LogisticRegression"
   ]
  },
  {
   "cell_type": "markdown",
   "id": "73e4271b",
   "metadata": {},
   "source": [
    "## Importing \"Breast Cancer\" Database"
   ]
  },
  {
   "cell_type": "code",
   "execution_count": 2,
   "id": "38b6680d",
   "metadata": {},
   "outputs": [
    {
     "data": {
      "text/plain": [
       "{'data': array([[1.799e+01, 1.038e+01, 1.228e+02, ..., 2.654e-01, 4.601e-01,\n",
       "         1.189e-01],\n",
       "        [2.057e+01, 1.777e+01, 1.329e+02, ..., 1.860e-01, 2.750e-01,\n",
       "         8.902e-02],\n",
       "        [1.969e+01, 2.125e+01, 1.300e+02, ..., 2.430e-01, 3.613e-01,\n",
       "         8.758e-02],\n",
       "        ...,\n",
       "        [1.660e+01, 2.808e+01, 1.083e+02, ..., 1.418e-01, 2.218e-01,\n",
       "         7.820e-02],\n",
       "        [2.060e+01, 2.933e+01, 1.401e+02, ..., 2.650e-01, 4.087e-01,\n",
       "         1.240e-01],\n",
       "        [7.760e+00, 2.454e+01, 4.792e+01, ..., 0.000e+00, 2.871e-01,\n",
       "         7.039e-02]]),\n",
       " 'target': array([0, 0, 0, 0, 0, 0, 0, 0, 0, 0, 0, 0, 0, 0, 0, 0, 0, 0, 0, 1, 1, 1,\n",
       "        0, 0, 0, 0, 0, 0, 0, 0, 0, 0, 0, 0, 0, 0, 0, 1, 0, 0, 0, 0, 0, 0,\n",
       "        0, 0, 1, 0, 1, 1, 1, 1, 1, 0, 0, 1, 0, 0, 1, 1, 1, 1, 0, 1, 0, 0,\n",
       "        1, 1, 1, 1, 0, 1, 0, 0, 1, 0, 1, 0, 0, 1, 1, 1, 0, 0, 1, 0, 0, 0,\n",
       "        1, 1, 1, 0, 1, 1, 0, 0, 1, 1, 1, 0, 0, 1, 1, 1, 1, 0, 1, 1, 0, 1,\n",
       "        1, 1, 1, 1, 1, 1, 1, 0, 0, 0, 1, 0, 0, 1, 1, 1, 0, 0, 1, 0, 1, 0,\n",
       "        0, 1, 0, 0, 1, 1, 0, 1, 1, 0, 1, 1, 1, 1, 0, 1, 1, 1, 1, 1, 1, 1,\n",
       "        1, 1, 0, 1, 1, 1, 1, 0, 0, 1, 0, 1, 1, 0, 0, 1, 1, 0, 0, 1, 1, 1,\n",
       "        1, 0, 1, 1, 0, 0, 0, 1, 0, 1, 0, 1, 1, 1, 0, 1, 1, 0, 0, 1, 0, 0,\n",
       "        0, 0, 1, 0, 0, 0, 1, 0, 1, 0, 1, 1, 0, 1, 0, 0, 0, 0, 1, 1, 0, 0,\n",
       "        1, 1, 1, 0, 1, 1, 1, 1, 1, 0, 0, 1, 1, 0, 1, 1, 0, 0, 1, 0, 1, 1,\n",
       "        1, 1, 0, 1, 1, 1, 1, 1, 0, 1, 0, 0, 0, 0, 0, 0, 0, 0, 0, 0, 0, 0,\n",
       "        0, 0, 1, 1, 1, 1, 1, 1, 0, 1, 0, 1, 1, 0, 1, 1, 0, 1, 0, 0, 1, 1,\n",
       "        1, 1, 1, 1, 1, 1, 1, 1, 1, 1, 1, 0, 1, 1, 0, 1, 0, 1, 1, 1, 1, 1,\n",
       "        1, 1, 1, 1, 1, 1, 1, 1, 1, 0, 1, 1, 1, 0, 1, 0, 1, 1, 1, 1, 0, 0,\n",
       "        0, 1, 1, 1, 1, 0, 1, 0, 1, 0, 1, 1, 1, 0, 1, 1, 1, 1, 1, 1, 1, 0,\n",
       "        0, 0, 1, 1, 1, 1, 1, 1, 1, 1, 1, 1, 1, 0, 0, 1, 0, 0, 0, 1, 0, 0,\n",
       "        1, 1, 1, 1, 1, 0, 1, 1, 1, 1, 1, 0, 1, 1, 1, 0, 1, 1, 0, 0, 1, 1,\n",
       "        1, 1, 1, 1, 0, 1, 1, 1, 1, 1, 1, 1, 0, 1, 1, 1, 1, 1, 0, 1, 1, 0,\n",
       "        1, 1, 1, 1, 1, 1, 1, 1, 1, 1, 1, 1, 0, 1, 0, 0, 1, 0, 1, 1, 1, 1,\n",
       "        1, 0, 1, 1, 0, 1, 0, 1, 1, 0, 1, 0, 1, 1, 1, 1, 1, 1, 1, 1, 0, 0,\n",
       "        1, 1, 1, 1, 1, 1, 0, 1, 1, 1, 1, 1, 1, 1, 1, 1, 1, 0, 1, 1, 1, 1,\n",
       "        1, 1, 1, 0, 1, 0, 1, 1, 0, 1, 1, 1, 1, 1, 0, 0, 1, 0, 1, 0, 1, 1,\n",
       "        1, 1, 1, 0, 1, 1, 0, 1, 0, 1, 0, 0, 1, 1, 1, 0, 1, 1, 1, 1, 1, 1,\n",
       "        1, 1, 1, 1, 1, 0, 1, 0, 0, 1, 1, 1, 1, 1, 1, 1, 1, 1, 1, 1, 1, 1,\n",
       "        1, 1, 1, 1, 1, 1, 1, 1, 1, 1, 1, 1, 0, 0, 0, 0, 0, 0, 1]),\n",
       " 'frame': None,\n",
       " 'target_names': array(['malignant', 'benign'], dtype='<U9'),\n",
       " 'DESCR': '.. _breast_cancer_dataset:\\n\\nBreast cancer wisconsin (diagnostic) dataset\\n--------------------------------------------\\n\\n**Data Set Characteristics:**\\n\\n    :Number of Instances: 569\\n\\n    :Number of Attributes: 30 numeric, predictive attributes and the class\\n\\n    :Attribute Information:\\n        - radius (mean of distances from center to points on the perimeter)\\n        - texture (standard deviation of gray-scale values)\\n        - perimeter\\n        - area\\n        - smoothness (local variation in radius lengths)\\n        - compactness (perimeter^2 / area - 1.0)\\n        - concavity (severity of concave portions of the contour)\\n        - concave points (number of concave portions of the contour)\\n        - symmetry\\n        - fractal dimension (\"coastline approximation\" - 1)\\n\\n        The mean, standard error, and \"worst\" or largest (mean of the three\\n        worst/largest values) of these features were computed for each image,\\n        resulting in 30 features.  For instance, field 0 is Mean Radius, field\\n        10 is Radius SE, field 20 is Worst Radius.\\n\\n        - class:\\n                - WDBC-Malignant\\n                - WDBC-Benign\\n\\n    :Summary Statistics:\\n\\n    ===================================== ====== ======\\n                                           Min    Max\\n    ===================================== ====== ======\\n    radius (mean):                        6.981  28.11\\n    texture (mean):                       9.71   39.28\\n    perimeter (mean):                     43.79  188.5\\n    area (mean):                          143.5  2501.0\\n    smoothness (mean):                    0.053  0.163\\n    compactness (mean):                   0.019  0.345\\n    concavity (mean):                     0.0    0.427\\n    concave points (mean):                0.0    0.201\\n    symmetry (mean):                      0.106  0.304\\n    fractal dimension (mean):             0.05   0.097\\n    radius (standard error):              0.112  2.873\\n    texture (standard error):             0.36   4.885\\n    perimeter (standard error):           0.757  21.98\\n    area (standard error):                6.802  542.2\\n    smoothness (standard error):          0.002  0.031\\n    compactness (standard error):         0.002  0.135\\n    concavity (standard error):           0.0    0.396\\n    concave points (standard error):      0.0    0.053\\n    symmetry (standard error):            0.008  0.079\\n    fractal dimension (standard error):   0.001  0.03\\n    radius (worst):                       7.93   36.04\\n    texture (worst):                      12.02  49.54\\n    perimeter (worst):                    50.41  251.2\\n    area (worst):                         185.2  4254.0\\n    smoothness (worst):                   0.071  0.223\\n    compactness (worst):                  0.027  1.058\\n    concavity (worst):                    0.0    1.252\\n    concave points (worst):               0.0    0.291\\n    symmetry (worst):                     0.156  0.664\\n    fractal dimension (worst):            0.055  0.208\\n    ===================================== ====== ======\\n\\n    :Missing Attribute Values: None\\n\\n    :Class Distribution: 212 - Malignant, 357 - Benign\\n\\n    :Creator:  Dr. William H. Wolberg, W. Nick Street, Olvi L. Mangasarian\\n\\n    :Donor: Nick Street\\n\\n    :Date: November, 1995\\n\\nThis is a copy of UCI ML Breast Cancer Wisconsin (Diagnostic) datasets.\\nhttps://goo.gl/U2Uwz2\\n\\nFeatures are computed from a digitized image of a fine needle\\naspirate (FNA) of a breast mass.  They describe\\ncharacteristics of the cell nuclei present in the image.\\n\\nSeparating plane described above was obtained using\\nMultisurface Method-Tree (MSM-T) [K. P. Bennett, \"Decision Tree\\nConstruction Via Linear Programming.\" Proceedings of the 4th\\nMidwest Artificial Intelligence and Cognitive Science Society,\\npp. 97-101, 1992], a classification method which uses linear\\nprogramming to construct a decision tree.  Relevant features\\nwere selected using an exhaustive search in the space of 1-4\\nfeatures and 1-3 separating planes.\\n\\nThe actual linear program used to obtain the separating plane\\nin the 3-dimensional space is that described in:\\n[K. P. Bennett and O. L. Mangasarian: \"Robust Linear\\nProgramming Discrimination of Two Linearly Inseparable Sets\",\\nOptimization Methods and Software 1, 1992, 23-34].\\n\\nThis database is also available through the UW CS ftp server:\\n\\nftp ftp.cs.wisc.edu\\ncd math-prog/cpo-dataset/machine-learn/WDBC/\\n\\n.. topic:: References\\n\\n   - W.N. Street, W.H. Wolberg and O.L. Mangasarian. Nuclear feature extraction \\n     for breast tumor diagnosis. IS&T/SPIE 1993 International Symposium on \\n     Electronic Imaging: Science and Technology, volume 1905, pages 861-870,\\n     San Jose, CA, 1993.\\n   - O.L. Mangasarian, W.N. Street and W.H. Wolberg. Breast cancer diagnosis and \\n     prognosis via linear programming. Operations Research, 43(4), pages 570-577, \\n     July-August 1995.\\n   - W.H. Wolberg, W.N. Street, and O.L. Mangasarian. Machine learning techniques\\n     to diagnose breast cancer from fine-needle aspirates. Cancer Letters 77 (1994) \\n     163-171.',\n",
       " 'feature_names': array(['mean radius', 'mean texture', 'mean perimeter', 'mean area',\n",
       "        'mean smoothness', 'mean compactness', 'mean concavity',\n",
       "        'mean concave points', 'mean symmetry', 'mean fractal dimension',\n",
       "        'radius error', 'texture error', 'perimeter error', 'area error',\n",
       "        'smoothness error', 'compactness error', 'concavity error',\n",
       "        'concave points error', 'symmetry error',\n",
       "        'fractal dimension error', 'worst radius', 'worst texture',\n",
       "        'worst perimeter', 'worst area', 'worst smoothness',\n",
       "        'worst compactness', 'worst concavity', 'worst concave points',\n",
       "        'worst symmetry', 'worst fractal dimension'], dtype='<U23'),\n",
       " 'filename': 'breast_cancer.csv',\n",
       " 'data_module': 'sklearn.datasets.data'}"
      ]
     },
     "execution_count": 2,
     "metadata": {},
     "output_type": "execute_result"
    }
   ],
   "source": [
    "breastCancer = datasets.load_breast_cancer()\n",
    "breastCancer"
   ]
  },
  {
   "cell_type": "markdown",
   "id": "22b77050",
   "metadata": {},
   "source": [
    "## Spliting the Data to Train and Test"
   ]
  },
  {
   "cell_type": "code",
   "execution_count": 3,
   "id": "0fec7edb",
   "metadata": {},
   "outputs": [],
   "source": [
    "from sklearn import model_selection\n",
    "X_train,X_test,Y_train,Y_test = model_selection.train_test_split(breastCancer.data,breastCancer.target)"
   ]
  },
  {
   "cell_type": "markdown",
   "id": "aff2f973",
   "metadata": {},
   "source": [
    "## Training the Logistic Regression"
   ]
  },
  {
   "cell_type": "code",
   "execution_count": 4,
   "id": "941e82c4",
   "metadata": {},
   "outputs": [],
   "source": [
    "clf = LogisticRegression(solver='liblinear', max_iter=100)"
   ]
  },
  {
   "cell_type": "markdown",
   "id": "8bd6f4bb",
   "metadata": {},
   "source": [
    "## Fit Function"
   ]
  },
  {
   "cell_type": "code",
   "execution_count": 5,
   "id": "be5a4483",
   "metadata": {},
   "outputs": [
    {
     "data": {
      "text/plain": [
       "LogisticRegression(solver='liblinear')"
      ]
     },
     "execution_count": 5,
     "metadata": {},
     "output_type": "execute_result"
    }
   ],
   "source": [
    "clf.fit(X_train,Y_train)"
   ]
  },
  {
   "cell_type": "markdown",
   "id": "408f0693",
   "metadata": {},
   "source": [
    "## Predict Function"
   ]
  },
  {
   "cell_type": "code",
   "execution_count": 6,
   "id": "d3c71d4a",
   "metadata": {},
   "outputs": [
    {
     "data": {
      "text/plain": [
       "array([0, 1, 1, 1, 1, 1, 0, 0, 1, 0, 0, 0, 1, 0, 1, 1, 1, 0, 1, 0, 0, 0,\n",
       "       1, 0, 0, 1, 1, 1, 1, 1, 0, 0, 0, 0, 0, 1, 1, 0, 1, 1, 1, 1, 1, 1,\n",
       "       0, 1, 0, 0, 0, 1, 0, 1, 1, 1, 1, 0, 1, 1, 1, 1, 1, 1, 0, 1, 1, 1,\n",
       "       0, 1, 0, 0, 1, 1, 0, 0, 0, 0, 1, 1, 1, 1, 0, 1, 0, 0, 1, 0, 1, 0,\n",
       "       1, 1, 0, 0, 0, 0, 0, 1, 1, 1, 0, 0, 1, 1, 1, 1, 0, 1, 0, 1, 1, 1,\n",
       "       1, 1, 1, 0, 1, 1, 1, 1, 1, 1, 1, 1, 1, 1, 1, 1, 1, 1, 1, 0, 1, 1,\n",
       "       1, 0, 1, 0, 1, 1, 1, 0, 1, 0, 1])"
      ]
     },
     "execution_count": 6,
     "metadata": {},
     "output_type": "execute_result"
    }
   ],
   "source": [
    "Y_pred = clf.predict(X_test)\n",
    "Y_pred"
   ]
  },
  {
   "cell_type": "markdown",
   "id": "1b96ffa4",
   "metadata": {},
   "source": [
    "## Score Function"
   ]
  },
  {
   "cell_type": "code",
   "execution_count": 10,
   "id": "0f8038fc",
   "metadata": {},
   "outputs": [
    {
     "data": {
      "text/plain": [
       "1.0"
      ]
     },
     "execution_count": 10,
     "metadata": {},
     "output_type": "execute_result"
    }
   ],
   "source": [
    "clf.score(X_test,Y_pred)"
   ]
  },
  {
   "cell_type": "markdown",
   "id": "657a7bc3",
   "metadata": {},
   "source": [
    "#### Now, suppose that at any y we are predicting y = 0 that simply means that out h(x) < 0.5 for that. Now, we need to find all those values where h(x) < 0.5 as there could be a case where our h(x) = 0.00001 then in this case the cost will be added is very huge tends to positive infinity."
   ]
  },
  {
   "cell_type": "markdown",
   "id": "78df9c5b",
   "metadata": {},
   "source": [
    "## Checking Mistakes in Test Data"
   ]
  },
  {
   "cell_type": "code",
   "execution_count": 11,
   "id": "bd5151a4",
   "metadata": {},
   "outputs": [
    {
     "data": {
      "text/plain": [
       "array([ 0,  0,  0,  0,  0,  0,  0,  0,  0, -1,  0,  0,  0,  0,  0,  0,  0,\n",
       "        0,  0,  0,  0,  0,  0,  0,  0,  0,  0,  0,  0,  0,  0,  0,  0,  0,\n",
       "        0,  0,  0, -1,  0,  0,  0,  0,  0,  0,  0,  0,  0,  0,  0,  0,  0,\n",
       "        0,  0,  0,  0,  0,  1,  0,  0,  0,  0,  0,  0,  0,  0,  0,  0,  0,\n",
       "        0,  0,  0,  0, -1,  0,  0,  0,  0,  0,  0,  0,  0,  0,  0,  0,  0,\n",
       "        0,  0,  0,  0,  0,  0,  0,  0,  0,  0,  0,  1,  0,  0,  0,  0,  0,\n",
       "        0,  0,  0,  0,  0,  0,  0,  0,  0,  0,  0,  0,  0,  0,  0,  0,  0,\n",
       "        0,  0,  0,  0,  0,  0,  0,  0,  0,  0,  0,  0,  0,  0,  0,  0,  0,\n",
       "        0,  0,  0,  0,  0,  0,  0])"
      ]
     },
     "execution_count": 11,
     "metadata": {},
     "output_type": "execute_result"
    }
   ],
   "source": [
    "clf.predict(X_test) - Y_test"
   ]
  },
  {
   "cell_type": "markdown",
   "id": "269c09d3",
   "metadata": {},
   "source": [
    "#### So, in the above array where are 0's there we are not making mistakes and where are 1's and -1's there we are making mistakes and we have to check weather the mistake too huge or not."
   ]
  },
  {
   "cell_type": "markdown",
   "id": "fdf492d9",
   "metadata": {},
   "source": [
    "## Prediction Probability Function"
   ]
  },
  {
   "cell_type": "code",
   "execution_count": 13,
   "id": "7ab0db3d",
   "metadata": {},
   "outputs": [
    {
     "data": {
      "text/plain": [
       "array([[9.99998459e-01, 1.54107275e-06],\n",
       "       [2.59256066e-03, 9.97407439e-01],\n",
       "       [4.36158967e-01, 5.63841033e-01],\n",
       "       [4.43939940e-04, 9.99556060e-01],\n",
       "       [1.01178045e-02, 9.89882196e-01],\n",
       "       [6.95294261e-03, 9.93047057e-01],\n",
       "       [1.00000000e+00, 8.21100785e-32],\n",
       "       [1.00000000e+00, 1.02078463e-17],\n",
       "       [2.20487672e-05, 9.99977951e-01],\n",
       "       [9.65277580e-01, 3.47224202e-02],\n",
       "       [7.41866539e-01, 2.58133461e-01],\n",
       "       [1.00000000e+00, 1.36351489e-26],\n",
       "       [1.12052540e-02, 9.88794746e-01],\n",
       "       [5.91070533e-01, 4.08929467e-01],\n",
       "       [2.29352379e-03, 9.97706476e-01],\n",
       "       [2.06552573e-02, 9.79344743e-01],\n",
       "       [8.44026193e-02, 9.15597381e-01],\n",
       "       [9.99955709e-01, 4.42912877e-05],\n",
       "       [1.50547344e-03, 9.98494527e-01],\n",
       "       [9.41162573e-01, 5.88374266e-02],\n",
       "       [9.99798013e-01, 2.01987131e-04],\n",
       "       [9.99999998e-01, 2.05578634e-09],\n",
       "       [5.57988949e-03, 9.94420111e-01],\n",
       "       [9.99999989e-01, 1.13736703e-08],\n",
       "       [9.99058852e-01, 9.41148243e-04],\n",
       "       [3.08808427e-01, 6.91191573e-01],\n",
       "       [1.02672937e-03, 9.98973271e-01],\n",
       "       [7.44373667e-03, 9.92556263e-01],\n",
       "       [8.05796860e-03, 9.91942031e-01],\n",
       "       [3.57067150e-03, 9.96429328e-01],\n",
       "       [9.99999836e-01, 1.63814783e-07],\n",
       "       [9.99999936e-01, 6.42114693e-08],\n",
       "       [9.99999994e-01, 6.42104311e-09],\n",
       "       [9.99973876e-01, 2.61237603e-05],\n",
       "       [9.65737342e-01, 3.42626576e-02],\n",
       "       [2.30726148e-02, 9.76927385e-01],\n",
       "       [3.25071994e-03, 9.96749280e-01],\n",
       "       [5.33683611e-01, 4.66316389e-01],\n",
       "       [4.20834641e-03, 9.95791654e-01],\n",
       "       [1.56983760e-01, 8.43016240e-01],\n",
       "       [7.37191432e-04, 9.99262809e-01],\n",
       "       [1.57026319e-01, 8.42973681e-01],\n",
       "       [2.18204823e-02, 9.78179518e-01],\n",
       "       [6.00360614e-02, 9.39963939e-01],\n",
       "       [1.00000000e+00, 1.10930354e-20],\n",
       "       [6.05574147e-03, 9.93944259e-01],\n",
       "       [9.13845911e-01, 8.61540891e-02],\n",
       "       [9.77916002e-01, 2.20839980e-02],\n",
       "       [9.17350990e-01, 8.26490104e-02],\n",
       "       [1.42592843e-02, 9.85740716e-01],\n",
       "       [7.81246055e-01, 2.18753945e-01],\n",
       "       [1.84400016e-02, 9.81559998e-01],\n",
       "       [6.44779433e-02, 9.35522057e-01],\n",
       "       [4.78152246e-03, 9.95218478e-01],\n",
       "       [1.06502568e-02, 9.89349743e-01],\n",
       "       [9.99647098e-01, 3.52901738e-04],\n",
       "       [5.62697465e-02, 9.43730254e-01],\n",
       "       [3.75280150e-03, 9.96247198e-01],\n",
       "       [8.58345937e-02, 9.14165406e-01],\n",
       "       [1.61954673e-03, 9.98380453e-01],\n",
       "       [4.32563535e-03, 9.95674365e-01],\n",
       "       [2.88330891e-03, 9.97116691e-01],\n",
       "       [9.99984000e-01, 1.60003926e-05],\n",
       "       [4.21760855e-03, 9.95782391e-01],\n",
       "       [5.63470540e-03, 9.94365295e-01],\n",
       "       [8.96416798e-02, 9.10358320e-01],\n",
       "       [9.99784708e-01, 2.15291564e-04],\n",
       "       [1.00276111e-03, 9.98997239e-01],\n",
       "       [9.99998953e-01, 1.04718319e-06],\n",
       "       [9.99752783e-01, 2.47216795e-04],\n",
       "       [4.92408455e-03, 9.95075915e-01],\n",
       "       [2.83880041e-04, 9.99716120e-01],\n",
       "       [8.05254155e-01, 1.94745845e-01],\n",
       "       [1.00000000e+00, 1.32273344e-13],\n",
       "       [9.94396923e-01, 5.60307682e-03],\n",
       "       [9.99999986e-01, 1.39734526e-08],\n",
       "       [2.20121393e-03, 9.97798786e-01],\n",
       "       [9.27720366e-03, 9.90722796e-01],\n",
       "       [5.06139077e-03, 9.94938609e-01],\n",
       "       [2.53693912e-02, 9.74630609e-01],\n",
       "       [9.99530725e-01, 4.69274593e-04],\n",
       "       [1.93163556e-03, 9.98068364e-01],\n",
       "       [5.55925065e-01, 4.44074935e-01],\n",
       "       [9.99961324e-01, 3.86759687e-05],\n",
       "       [1.78625896e-04, 9.99821374e-01],\n",
       "       [1.00000000e+00, 2.15692445e-18],\n",
       "       [4.54386691e-02, 9.54561331e-01],\n",
       "       [9.95392371e-01, 4.60762928e-03],\n",
       "       [7.52808868e-03, 9.92471911e-01],\n",
       "       [5.21818449e-03, 9.94781816e-01],\n",
       "       [9.99992748e-01, 7.25186429e-06],\n",
       "       [1.00000000e+00, 2.85020699e-11],\n",
       "       [9.98390558e-01, 1.60944151e-03],\n",
       "       [9.89068468e-01, 1.09315320e-02],\n",
       "       [9.99881249e-01, 1.18750669e-04],\n",
       "       [2.51828150e-02, 9.74817185e-01],\n",
       "       [4.40985327e-02, 9.55901467e-01],\n",
       "       [2.83134680e-01, 7.16865320e-01],\n",
       "       [9.99992677e-01, 7.32336323e-06],\n",
       "       [1.00000000e+00, 9.78747469e-11],\n",
       "       [6.01567322e-03, 9.93984327e-01],\n",
       "       [8.56504991e-02, 9.14349501e-01],\n",
       "       [1.22637878e-03, 9.98773621e-01],\n",
       "       [2.57566517e-02, 9.74243348e-01],\n",
       "       [9.99999999e-01, 7.00653374e-10],\n",
       "       [4.16859518e-03, 9.95831405e-01],\n",
       "       [9.99613240e-01, 3.86759901e-04],\n",
       "       [4.70584829e-03, 9.95294152e-01],\n",
       "       [9.97168620e-04, 9.99002831e-01],\n",
       "       [2.13599463e-01, 7.86400537e-01],\n",
       "       [9.42143447e-02, 9.05785655e-01],\n",
       "       [2.82296451e-04, 9.99717704e-01],\n",
       "       [7.02004472e-03, 9.92979955e-01],\n",
       "       [1.00000000e+00, 2.66964465e-13],\n",
       "       [5.61343590e-03, 9.94386564e-01],\n",
       "       [6.24077449e-03, 9.93759226e-01],\n",
       "       [2.16814562e-04, 9.99783185e-01],\n",
       "       [4.56149559e-02, 9.54385044e-01],\n",
       "       [5.56701827e-03, 9.94432982e-01],\n",
       "       [7.93039938e-03, 9.92069601e-01],\n",
       "       [4.06744566e-02, 9.59325543e-01],\n",
       "       [6.53201009e-03, 9.93467990e-01],\n",
       "       [1.30675682e-03, 9.98693243e-01],\n",
       "       [1.90698654e-02, 9.80930135e-01],\n",
       "       [1.88152922e-03, 9.98118471e-01],\n",
       "       [3.44587871e-03, 9.96554121e-01],\n",
       "       [2.77533098e-03, 9.97224669e-01],\n",
       "       [2.36292958e-01, 7.63707042e-01],\n",
       "       [4.28413115e-03, 9.95715869e-01],\n",
       "       [9.99999956e-01, 4.35779014e-08],\n",
       "       [4.87643929e-02, 9.51235607e-01],\n",
       "       [1.67649749e-03, 9.98323503e-01],\n",
       "       [2.46308014e-03, 9.97536920e-01],\n",
       "       [9.35753149e-01, 6.42468510e-02],\n",
       "       [5.41618257e-02, 9.45838174e-01],\n",
       "       [9.99999935e-01, 6.51004830e-08],\n",
       "       [2.35604642e-03, 9.97643954e-01],\n",
       "       [1.04943557e-03, 9.98950564e-01],\n",
       "       [4.26836927e-03, 9.95731631e-01],\n",
       "       [9.98547831e-01, 1.45216855e-03],\n",
       "       [2.71947863e-02, 9.72805214e-01],\n",
       "       [1.00000000e+00, 1.69127521e-10],\n",
       "       [1.01153714e-03, 9.98988463e-01]])"
      ]
     },
     "execution_count": 13,
     "metadata": {},
     "output_type": "execute_result"
    }
   ],
   "source": [
    "clf.predict_proba(X_test)"
   ]
  },
  {
   "cell_type": "markdown",
   "id": "a07d6afe",
   "metadata": {},
   "source": [
    "### Checking on Individual Values"
   ]
  },
  {
   "cell_type": "code",
   "execution_count": 14,
   "id": "61fbcd06",
   "metadata": {},
   "outputs": [
    {
     "data": {
      "text/plain": [
       "array([0.96527758, 0.03472242])"
      ]
     },
     "execution_count": 14,
     "metadata": {},
     "output_type": "execute_result"
    }
   ],
   "source": [
    "clf.predict_proba(X_test)[9]"
   ]
  }
 ],
 "metadata": {
  "kernelspec": {
   "display_name": "Python 3 (ipykernel)",
   "language": "python",
   "name": "python3"
  },
  "language_info": {
   "codemirror_mode": {
    "name": "ipython",
    "version": 3
   },
   "file_extension": ".py",
   "mimetype": "text/x-python",
   "name": "python",
   "nbconvert_exporter": "python",
   "pygments_lexer": "ipython3",
   "version": "3.9.12"
  }
 },
 "nbformat": 4,
 "nbformat_minor": 5
}
