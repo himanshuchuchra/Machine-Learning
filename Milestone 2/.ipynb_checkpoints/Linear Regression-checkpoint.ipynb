{
 "cells": [
  {
   "cell_type": "markdown",
   "id": "29c9ad2e",
   "metadata": {},
   "source": [
    "# Linear Regression | Machine Learning | Coding Ninjas"
   ]
  },
  {
   "cell_type": "markdown",
   "id": "3cbcdd0f",
   "metadata": {},
   "source": [
    "## One Dimentional Data Functions"
   ]
  },
  {
   "cell_type": "markdown",
   "id": "d77bdc6f",
   "metadata": {},
   "source": [
    "#### We need four functions to code a Linear Regression Algorithm manually:\n",
    "\n",
    "1. Fit Function: fit(X_Train,Y_Train) = return m,c\n",
    "2. Predict Function: predict(X_Test,m,c) = return Y_Pred\n",
    "3. COD Function: cod(Y_Pred,Y_Test) = return score\n",
    "4. Cost Function: cost(X,Y,m,c) = return error"
   ]
  },
  {
   "cell_type": "code",
   "execution_count": 2,
   "id": "e47eb056",
   "metadata": {},
   "outputs": [],
   "source": [
    "import numpy as np"
   ]
  },
  {
   "cell_type": "markdown",
   "id": "7f1998cb",
   "metadata": {},
   "source": [
    "### Fit Function"
   ]
  },
  {
   "cell_type": "code",
   "execution_count": 3,
   "id": "fa9366d4",
   "metadata": {},
   "outputs": [],
   "source": [
    "def fit(X_Train,Y_Train):\n",
    "    XY_Mean = (X_Train*Y_Train).mean()\n",
    "    X_Mean = X_Train.mean()\n",
    "    Y_Mean = Y_Train.mean()\n",
    "    XX_Mean = (X_Train**2).mean()\n",
    "    numerator = XY_Mean - (X_Mean * Y_Mean)\n",
    "    denomenator = XX_Mean - (X_Mean)**2\n",
    "    m = numerator/denomenator\n",
    "    c = Y_Mean - (m * X_Mean)\n",
    "    return m,c;"
   ]
  },
  {
   "cell_type": "markdown",
   "id": "a5e9dff9",
   "metadata": {},
   "source": [
    "### Predict Function"
   ]
  },
  {
   "cell_type": "code",
   "execution_count": 4,
   "id": "825cbcea",
   "metadata": {},
   "outputs": [],
   "source": [
    "def predict(X_Test,m,c):\n",
    "    Y_Pred = (m*X_Test) + c\n",
    "    return Y_Pred"
   ]
  },
  {
   "cell_type": "markdown",
   "id": "00e993f2",
   "metadata": {},
   "source": [
    "### Score Function"
   ]
  },
  {
   "cell_type": "code",
   "execution_count": 5,
   "id": "ead828b8",
   "metadata": {},
   "outputs": [],
   "source": [
    "def score(Y_Test, Y_Pred):\n",
    "    u = ((Y_Test - Y_Pred)**2).sum()\n",
    "    v = ((Y_Test - Y_Test.mean())**2).sum()\n",
    "    result = 1 - (u/v)\n",
    "    return result"
   ]
  },
  {
   "cell_type": "markdown",
   "id": "bc5e2c85",
   "metadata": {},
   "source": [
    "### Cost Function"
   ]
  },
  {
   "cell_type": "code",
   "execution_count": 8,
   "id": "522ed26c",
   "metadata": {},
   "outputs": [],
   "source": [
    "def cost(X,Y,m,c):\n",
    "    error = ((Y - ((m * X) + c))**2).sum()\n",
    "    return error"
   ]
  },
  {
   "cell_type": "markdown",
   "id": "aad251f7",
   "metadata": {},
   "source": [
    "## Two Dimentional Data Functions"
   ]
  }
 ],
 "metadata": {
  "kernelspec": {
   "display_name": "Python 3 (ipykernel)",
   "language": "python",
   "name": "python3"
  },
  "language_info": {
   "codemirror_mode": {
    "name": "ipython",
    "version": 3
   },
   "file_extension": ".py",
   "mimetype": "text/x-python",
   "name": "python",
   "nbconvert_exporter": "python",
   "pygments_lexer": "ipython3",
   "version": "3.9.12"
  }
 },
 "nbformat": 4,
 "nbformat_minor": 5
}
