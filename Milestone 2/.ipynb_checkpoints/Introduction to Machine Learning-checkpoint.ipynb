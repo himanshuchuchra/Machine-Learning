{
 "cells": [
  {
   "cell_type": "markdown",
   "id": "d992e132",
   "metadata": {},
   "source": [
    "# Intro to ML | Machine Learning | Coding Ninjas"
   ]
  },
  {
   "cell_type": "code",
   "execution_count": 1,
   "id": "cd03dd2a",
   "metadata": {},
   "outputs": [],
   "source": [
    "from sklearn import datasets"
   ]
  },
  {
   "cell_type": "markdown",
   "id": "ba1183be",
   "metadata": {},
   "source": [
    "## Boston Housing Data"
   ]
  },
  {
   "cell_type": "code",
   "execution_count": 15,
   "id": "8ab0fee6",
   "metadata": {},
   "outputs": [
    {
     "name": "stderr",
     "output_type": "stream",
     "text": [
      "C:\\Users\\hp\\anaconda3\\lib\\site-packages\\sklearn\\utils\\deprecation.py:87: FutureWarning: Function load_boston is deprecated; `load_boston` is deprecated in 1.0 and will be removed in 1.2.\n",
      "\n",
      "    The Boston housing prices dataset has an ethical problem. You can refer to\n",
      "    the documentation of this function for further details.\n",
      "\n",
      "    The scikit-learn maintainers therefore strongly discourage the use of this\n",
      "    dataset unless the purpose of the code is to study and educate about\n",
      "    ethical issues in data science and machine learning.\n",
      "\n",
      "    In this special case, you can fetch the dataset from the original\n",
      "    source::\n",
      "\n",
      "        import pandas as pd\n",
      "        import numpy as np\n",
      "\n",
      "\n",
      "        data_url = \"http://lib.stat.cmu.edu/datasets/boston\"\n",
      "        raw_df = pd.read_csv(data_url, sep=\"\\s+\", skiprows=22, header=None)\n",
      "        data = np.hstack([raw_df.values[::2, :], raw_df.values[1::2, :2]])\n",
      "        target = raw_df.values[1::2, 2]\n",
      "\n",
      "    Alternative datasets include the California housing dataset (i.e.\n",
      "    :func:`~sklearn.datasets.fetch_california_housing`) and the Ames housing\n",
      "    dataset. You can load the datasets as follows::\n",
      "\n",
      "        from sklearn.datasets import fetch_california_housing\n",
      "        housing = fetch_california_housing()\n",
      "\n",
      "    for the California housing dataset and::\n",
      "\n",
      "        from sklearn.datasets import fetch_openml\n",
      "        housing = fetch_openml(name=\"house_prices\", as_frame=True)\n",
      "\n",
      "    for the Ames housing dataset.\n",
      "    \n",
      "  warnings.warn(msg, category=FutureWarning)\n"
     ]
    },
    {
     "data": {
      "text/plain": [
       "{'data': array([[6.3200e-03, 1.8000e+01, 2.3100e+00, ..., 1.5300e+01, 3.9690e+02,\n",
       "         4.9800e+00],\n",
       "        [2.7310e-02, 0.0000e+00, 7.0700e+00, ..., 1.7800e+01, 3.9690e+02,\n",
       "         9.1400e+00],\n",
       "        [2.7290e-02, 0.0000e+00, 7.0700e+00, ..., 1.7800e+01, 3.9283e+02,\n",
       "         4.0300e+00],\n",
       "        ...,\n",
       "        [6.0760e-02, 0.0000e+00, 1.1930e+01, ..., 2.1000e+01, 3.9690e+02,\n",
       "         5.6400e+00],\n",
       "        [1.0959e-01, 0.0000e+00, 1.1930e+01, ..., 2.1000e+01, 3.9345e+02,\n",
       "         6.4800e+00],\n",
       "        [4.7410e-02, 0.0000e+00, 1.1930e+01, ..., 2.1000e+01, 3.9690e+02,\n",
       "         7.8800e+00]]),\n",
       " 'target': array([24. , 21.6, 34.7, 33.4, 36.2, 28.7, 22.9, 27.1, 16.5, 18.9, 15. ,\n",
       "        18.9, 21.7, 20.4, 18.2, 19.9, 23.1, 17.5, 20.2, 18.2, 13.6, 19.6,\n",
       "        15.2, 14.5, 15.6, 13.9, 16.6, 14.8, 18.4, 21. , 12.7, 14.5, 13.2,\n",
       "        13.1, 13.5, 18.9, 20. , 21. , 24.7, 30.8, 34.9, 26.6, 25.3, 24.7,\n",
       "        21.2, 19.3, 20. , 16.6, 14.4, 19.4, 19.7, 20.5, 25. , 23.4, 18.9,\n",
       "        35.4, 24.7, 31.6, 23.3, 19.6, 18.7, 16. , 22.2, 25. , 33. , 23.5,\n",
       "        19.4, 22. , 17.4, 20.9, 24.2, 21.7, 22.8, 23.4, 24.1, 21.4, 20. ,\n",
       "        20.8, 21.2, 20.3, 28. , 23.9, 24.8, 22.9, 23.9, 26.6, 22.5, 22.2,\n",
       "        23.6, 28.7, 22.6, 22. , 22.9, 25. , 20.6, 28.4, 21.4, 38.7, 43.8,\n",
       "        33.2, 27.5, 26.5, 18.6, 19.3, 20.1, 19.5, 19.5, 20.4, 19.8, 19.4,\n",
       "        21.7, 22.8, 18.8, 18.7, 18.5, 18.3, 21.2, 19.2, 20.4, 19.3, 22. ,\n",
       "        20.3, 20.5, 17.3, 18.8, 21.4, 15.7, 16.2, 18. , 14.3, 19.2, 19.6,\n",
       "        23. , 18.4, 15.6, 18.1, 17.4, 17.1, 13.3, 17.8, 14. , 14.4, 13.4,\n",
       "        15.6, 11.8, 13.8, 15.6, 14.6, 17.8, 15.4, 21.5, 19.6, 15.3, 19.4,\n",
       "        17. , 15.6, 13.1, 41.3, 24.3, 23.3, 27. , 50. , 50. , 50. , 22.7,\n",
       "        25. , 50. , 23.8, 23.8, 22.3, 17.4, 19.1, 23.1, 23.6, 22.6, 29.4,\n",
       "        23.2, 24.6, 29.9, 37.2, 39.8, 36.2, 37.9, 32.5, 26.4, 29.6, 50. ,\n",
       "        32. , 29.8, 34.9, 37. , 30.5, 36.4, 31.1, 29.1, 50. , 33.3, 30.3,\n",
       "        34.6, 34.9, 32.9, 24.1, 42.3, 48.5, 50. , 22.6, 24.4, 22.5, 24.4,\n",
       "        20. , 21.7, 19.3, 22.4, 28.1, 23.7, 25. , 23.3, 28.7, 21.5, 23. ,\n",
       "        26.7, 21.7, 27.5, 30.1, 44.8, 50. , 37.6, 31.6, 46.7, 31.5, 24.3,\n",
       "        31.7, 41.7, 48.3, 29. , 24. , 25.1, 31.5, 23.7, 23.3, 22. , 20.1,\n",
       "        22.2, 23.7, 17.6, 18.5, 24.3, 20.5, 24.5, 26.2, 24.4, 24.8, 29.6,\n",
       "        42.8, 21.9, 20.9, 44. , 50. , 36. , 30.1, 33.8, 43.1, 48.8, 31. ,\n",
       "        36.5, 22.8, 30.7, 50. , 43.5, 20.7, 21.1, 25.2, 24.4, 35.2, 32.4,\n",
       "        32. , 33.2, 33.1, 29.1, 35.1, 45.4, 35.4, 46. , 50. , 32.2, 22. ,\n",
       "        20.1, 23.2, 22.3, 24.8, 28.5, 37.3, 27.9, 23.9, 21.7, 28.6, 27.1,\n",
       "        20.3, 22.5, 29. , 24.8, 22. , 26.4, 33.1, 36.1, 28.4, 33.4, 28.2,\n",
       "        22.8, 20.3, 16.1, 22.1, 19.4, 21.6, 23.8, 16.2, 17.8, 19.8, 23.1,\n",
       "        21. , 23.8, 23.1, 20.4, 18.5, 25. , 24.6, 23. , 22.2, 19.3, 22.6,\n",
       "        19.8, 17.1, 19.4, 22.2, 20.7, 21.1, 19.5, 18.5, 20.6, 19. , 18.7,\n",
       "        32.7, 16.5, 23.9, 31.2, 17.5, 17.2, 23.1, 24.5, 26.6, 22.9, 24.1,\n",
       "        18.6, 30.1, 18.2, 20.6, 17.8, 21.7, 22.7, 22.6, 25. , 19.9, 20.8,\n",
       "        16.8, 21.9, 27.5, 21.9, 23.1, 50. , 50. , 50. , 50. , 50. , 13.8,\n",
       "        13.8, 15. , 13.9, 13.3, 13.1, 10.2, 10.4, 10.9, 11.3, 12.3,  8.8,\n",
       "         7.2, 10.5,  7.4, 10.2, 11.5, 15.1, 23.2,  9.7, 13.8, 12.7, 13.1,\n",
       "        12.5,  8.5,  5. ,  6.3,  5.6,  7.2, 12.1,  8.3,  8.5,  5. , 11.9,\n",
       "        27.9, 17.2, 27.5, 15. , 17.2, 17.9, 16.3,  7. ,  7.2,  7.5, 10.4,\n",
       "         8.8,  8.4, 16.7, 14.2, 20.8, 13.4, 11.7,  8.3, 10.2, 10.9, 11. ,\n",
       "         9.5, 14.5, 14.1, 16.1, 14.3, 11.7, 13.4,  9.6,  8.7,  8.4, 12.8,\n",
       "        10.5, 17.1, 18.4, 15.4, 10.8, 11.8, 14.9, 12.6, 14.1, 13. , 13.4,\n",
       "        15.2, 16.1, 17.8, 14.9, 14.1, 12.7, 13.5, 14.9, 20. , 16.4, 17.7,\n",
       "        19.5, 20.2, 21.4, 19.9, 19. , 19.1, 19.1, 20.1, 19.9, 19.6, 23.2,\n",
       "        29.8, 13.8, 13.3, 16.7, 12. , 14.6, 21.4, 23. , 23.7, 25. , 21.8,\n",
       "        20.6, 21.2, 19.1, 20.6, 15.2,  7. ,  8.1, 13.6, 20.1, 21.8, 24.5,\n",
       "        23.1, 19.7, 18.3, 21.2, 17.5, 16.8, 22.4, 20.6, 23.9, 22. , 11.9]),\n",
       " 'feature_names': array(['CRIM', 'ZN', 'INDUS', 'CHAS', 'NOX', 'RM', 'AGE', 'DIS', 'RAD',\n",
       "        'TAX', 'PTRATIO', 'B', 'LSTAT'], dtype='<U7'),\n",
       " 'DESCR': \".. _boston_dataset:\\n\\nBoston house prices dataset\\n---------------------------\\n\\n**Data Set Characteristics:**  \\n\\n    :Number of Instances: 506 \\n\\n    :Number of Attributes: 13 numeric/categorical predictive. Median Value (attribute 14) is usually the target.\\n\\n    :Attribute Information (in order):\\n        - CRIM     per capita crime rate by town\\n        - ZN       proportion of residential land zoned for lots over 25,000 sq.ft.\\n        - INDUS    proportion of non-retail business acres per town\\n        - CHAS     Charles River dummy variable (= 1 if tract bounds river; 0 otherwise)\\n        - NOX      nitric oxides concentration (parts per 10 million)\\n        - RM       average number of rooms per dwelling\\n        - AGE      proportion of owner-occupied units built prior to 1940\\n        - DIS      weighted distances to five Boston employment centres\\n        - RAD      index of accessibility to radial highways\\n        - TAX      full-value property-tax rate per $10,000\\n        - PTRATIO  pupil-teacher ratio by town\\n        - B        1000(Bk - 0.63)^2 where Bk is the proportion of black people by town\\n        - LSTAT    % lower status of the population\\n        - MEDV     Median value of owner-occupied homes in $1000's\\n\\n    :Missing Attribute Values: None\\n\\n    :Creator: Harrison, D. and Rubinfeld, D.L.\\n\\nThis is a copy of UCI ML housing dataset.\\nhttps://archive.ics.uci.edu/ml/machine-learning-databases/housing/\\n\\n\\nThis dataset was taken from the StatLib library which is maintained at Carnegie Mellon University.\\n\\nThe Boston house-price data of Harrison, D. and Rubinfeld, D.L. 'Hedonic\\nprices and the demand for clean air', J. Environ. Economics & Management,\\nvol.5, 81-102, 1978.   Used in Belsley, Kuh & Welsch, 'Regression diagnostics\\n...', Wiley, 1980.   N.B. Various transformations are used in the table on\\npages 244-261 of the latter.\\n\\nThe Boston house-price data has been used in many machine learning papers that address regression\\nproblems.   \\n     \\n.. topic:: References\\n\\n   - Belsley, Kuh & Welsch, 'Regression diagnostics: Identifying Influential Data and Sources of Collinearity', Wiley, 1980. 244-261.\\n   - Quinlan,R. (1993). Combining Instance-Based and Model-Based Learning. In Proceedings on the Tenth International Conference of Machine Learning, 236-243, University of Massachusetts, Amherst. Morgan Kaufmann.\\n\",\n",
       " 'filename': 'boston_house_prices.csv',\n",
       " 'data_module': 'sklearn.datasets.data'}"
      ]
     },
     "execution_count": 15,
     "metadata": {},
     "output_type": "execute_result"
    }
   ],
   "source": [
    "boston = datasets.load_boston()\n",
    "boston"
   ]
  },
  {
   "cell_type": "markdown",
   "id": "14a9ce1e",
   "metadata": {},
   "source": [
    "### Dividing the data into parts which are required."
   ]
  },
  {
   "cell_type": "code",
   "execution_count": 20,
   "id": "680edb5c",
   "metadata": {},
   "outputs": [
    {
     "name": "stdout",
     "output_type": "stream",
     "text": [
      "[[6.3200e-03 1.8000e+01 2.3100e+00 ... 1.5300e+01 3.9690e+02 4.9800e+00]\n",
      " [2.7310e-02 0.0000e+00 7.0700e+00 ... 1.7800e+01 3.9690e+02 9.1400e+00]\n",
      " [2.7290e-02 0.0000e+00 7.0700e+00 ... 1.7800e+01 3.9283e+02 4.0300e+00]\n",
      " ...\n",
      " [6.0760e-02 0.0000e+00 1.1930e+01 ... 2.1000e+01 3.9690e+02 5.6400e+00]\n",
      " [1.0959e-01 0.0000e+00 1.1930e+01 ... 2.1000e+01 3.9345e+02 6.4800e+00]\n",
      " [4.7410e-02 0.0000e+00 1.1930e+01 ... 2.1000e+01 3.9690e+02 7.8800e+00]]\n",
      "\n",
      "[24.  21.6 34.7 33.4 36.2 28.7 22.9 27.1 16.5 18.9 15.  18.9 21.7 20.4\n",
      " 18.2 19.9 23.1 17.5 20.2 18.2 13.6 19.6 15.2 14.5 15.6 13.9 16.6 14.8\n",
      " 18.4 21.  12.7 14.5 13.2 13.1 13.5 18.9 20.  21.  24.7 30.8 34.9 26.6\n",
      " 25.3 24.7 21.2 19.3 20.  16.6 14.4 19.4 19.7 20.5 25.  23.4 18.9 35.4\n",
      " 24.7 31.6 23.3 19.6 18.7 16.  22.2 25.  33.  23.5 19.4 22.  17.4 20.9\n",
      " 24.2 21.7 22.8 23.4 24.1 21.4 20.  20.8 21.2 20.3 28.  23.9 24.8 22.9\n",
      " 23.9 26.6 22.5 22.2 23.6 28.7 22.6 22.  22.9 25.  20.6 28.4 21.4 38.7\n",
      " 43.8 33.2 27.5 26.5 18.6 19.3 20.1 19.5 19.5 20.4 19.8 19.4 21.7 22.8\n",
      " 18.8 18.7 18.5 18.3 21.2 19.2 20.4 19.3 22.  20.3 20.5 17.3 18.8 21.4\n",
      " 15.7 16.2 18.  14.3 19.2 19.6 23.  18.4 15.6 18.1 17.4 17.1 13.3 17.8\n",
      " 14.  14.4 13.4 15.6 11.8 13.8 15.6 14.6 17.8 15.4 21.5 19.6 15.3 19.4\n",
      " 17.  15.6 13.1 41.3 24.3 23.3 27.  50.  50.  50.  22.7 25.  50.  23.8\n",
      " 23.8 22.3 17.4 19.1 23.1 23.6 22.6 29.4 23.2 24.6 29.9 37.2 39.8 36.2\n",
      " 37.9 32.5 26.4 29.6 50.  32.  29.8 34.9 37.  30.5 36.4 31.1 29.1 50.\n",
      " 33.3 30.3 34.6 34.9 32.9 24.1 42.3 48.5 50.  22.6 24.4 22.5 24.4 20.\n",
      " 21.7 19.3 22.4 28.1 23.7 25.  23.3 28.7 21.5 23.  26.7 21.7 27.5 30.1\n",
      " 44.8 50.  37.6 31.6 46.7 31.5 24.3 31.7 41.7 48.3 29.  24.  25.1 31.5\n",
      " 23.7 23.3 22.  20.1 22.2 23.7 17.6 18.5 24.3 20.5 24.5 26.2 24.4 24.8\n",
      " 29.6 42.8 21.9 20.9 44.  50.  36.  30.1 33.8 43.1 48.8 31.  36.5 22.8\n",
      " 30.7 50.  43.5 20.7 21.1 25.2 24.4 35.2 32.4 32.  33.2 33.1 29.1 35.1\n",
      " 45.4 35.4 46.  50.  32.2 22.  20.1 23.2 22.3 24.8 28.5 37.3 27.9 23.9\n",
      " 21.7 28.6 27.1 20.3 22.5 29.  24.8 22.  26.4 33.1 36.1 28.4 33.4 28.2\n",
      " 22.8 20.3 16.1 22.1 19.4 21.6 23.8 16.2 17.8 19.8 23.1 21.  23.8 23.1\n",
      " 20.4 18.5 25.  24.6 23.  22.2 19.3 22.6 19.8 17.1 19.4 22.2 20.7 21.1\n",
      " 19.5 18.5 20.6 19.  18.7 32.7 16.5 23.9 31.2 17.5 17.2 23.1 24.5 26.6\n",
      " 22.9 24.1 18.6 30.1 18.2 20.6 17.8 21.7 22.7 22.6 25.  19.9 20.8 16.8\n",
      " 21.9 27.5 21.9 23.1 50.  50.  50.  50.  50.  13.8 13.8 15.  13.9 13.3\n",
      " 13.1 10.2 10.4 10.9 11.3 12.3  8.8  7.2 10.5  7.4 10.2 11.5 15.1 23.2\n",
      "  9.7 13.8 12.7 13.1 12.5  8.5  5.   6.3  5.6  7.2 12.1  8.3  8.5  5.\n",
      " 11.9 27.9 17.2 27.5 15.  17.2 17.9 16.3  7.   7.2  7.5 10.4  8.8  8.4\n",
      " 16.7 14.2 20.8 13.4 11.7  8.3 10.2 10.9 11.   9.5 14.5 14.1 16.1 14.3\n",
      " 11.7 13.4  9.6  8.7  8.4 12.8 10.5 17.1 18.4 15.4 10.8 11.8 14.9 12.6\n",
      " 14.1 13.  13.4 15.2 16.1 17.8 14.9 14.1 12.7 13.5 14.9 20.  16.4 17.7\n",
      " 19.5 20.2 21.4 19.9 19.  19.1 19.1 20.1 19.9 19.6 23.2 29.8 13.8 13.3\n",
      " 16.7 12.  14.6 21.4 23.  23.7 25.  21.8 20.6 21.2 19.1 20.6 15.2  7.\n",
      "  8.1 13.6 20.1 21.8 24.5 23.1 19.7 18.3 21.2 17.5 16.8 22.4 20.6 23.9\n",
      " 22.  11.9]\n"
     ]
    }
   ],
   "source": [
    "data = boston.data\n",
    "target = boston.target\n",
    "print(data)\n",
    "print()\n",
    "print(target)"
   ]
  },
  {
   "cell_type": "code",
   "execution_count": 22,
   "id": "844c056c",
   "metadata": {},
   "outputs": [
    {
     "name": "stdout",
     "output_type": "stream",
     "text": [
      "(506, 13)\n"
     ]
    },
    {
     "data": {
      "text/plain": [
       "array([[6.3200e-03, 1.8000e+01, 2.3100e+00, ..., 1.5300e+01, 3.9690e+02,\n",
       "        4.9800e+00],\n",
       "       [2.7310e-02, 0.0000e+00, 7.0700e+00, ..., 1.7800e+01, 3.9690e+02,\n",
       "        9.1400e+00],\n",
       "       [2.7290e-02, 0.0000e+00, 7.0700e+00, ..., 1.7800e+01, 3.9283e+02,\n",
       "        4.0300e+00],\n",
       "       ...,\n",
       "       [6.0760e-02, 0.0000e+00, 1.1930e+01, ..., 2.1000e+01, 3.9690e+02,\n",
       "        5.6400e+00],\n",
       "       [1.0959e-01, 0.0000e+00, 1.1930e+01, ..., 2.1000e+01, 3.9345e+02,\n",
       "        6.4800e+00],\n",
       "       [4.7410e-02, 0.0000e+00, 1.1930e+01, ..., 2.1000e+01, 3.9690e+02,\n",
       "        7.8800e+00]])"
      ]
     },
     "execution_count": 22,
     "metadata": {},
     "output_type": "execute_result"
    }
   ],
   "source": [
    "print(data.shape)\n",
    "data"
   ]
  },
  {
   "cell_type": "markdown",
   "id": "c5fb2a3d",
   "metadata": {},
   "source": [
    "### Importing Pandas to convert data to DataFrames"
   ]
  },
  {
   "cell_type": "code",
   "execution_count": 5,
   "id": "0bad9f35",
   "metadata": {},
   "outputs": [],
   "source": [
    "import pandas as pd"
   ]
  },
  {
   "cell_type": "code",
   "execution_count": 23,
   "id": "4c26603d",
   "metadata": {},
   "outputs": [
    {
     "data": {
      "text/html": [
       "<div>\n",
       "<style scoped>\n",
       "    .dataframe tbody tr th:only-of-type {\n",
       "        vertical-align: middle;\n",
       "    }\n",
       "\n",
       "    .dataframe tbody tr th {\n",
       "        vertical-align: top;\n",
       "    }\n",
       "\n",
       "    .dataframe thead th {\n",
       "        text-align: right;\n",
       "    }\n",
       "</style>\n",
       "<table border=\"1\" class=\"dataframe\">\n",
       "  <thead>\n",
       "    <tr style=\"text-align: right;\">\n",
       "      <th></th>\n",
       "      <th>CRIM</th>\n",
       "      <th>ZN</th>\n",
       "      <th>INDUS</th>\n",
       "      <th>CHAS</th>\n",
       "      <th>NOX</th>\n",
       "      <th>RM</th>\n",
       "      <th>AGE</th>\n",
       "      <th>DIS</th>\n",
       "      <th>RAD</th>\n",
       "      <th>TAX</th>\n",
       "      <th>PTRATIO</th>\n",
       "      <th>B</th>\n",
       "      <th>LSTAT</th>\n",
       "    </tr>\n",
       "  </thead>\n",
       "  <tbody>\n",
       "    <tr>\n",
       "      <th>count</th>\n",
       "      <td>506.000000</td>\n",
       "      <td>506.000000</td>\n",
       "      <td>506.000000</td>\n",
       "      <td>506.000000</td>\n",
       "      <td>506.000000</td>\n",
       "      <td>506.000000</td>\n",
       "      <td>506.000000</td>\n",
       "      <td>506.000000</td>\n",
       "      <td>506.000000</td>\n",
       "      <td>506.000000</td>\n",
       "      <td>506.000000</td>\n",
       "      <td>506.000000</td>\n",
       "      <td>506.000000</td>\n",
       "    </tr>\n",
       "    <tr>\n",
       "      <th>mean</th>\n",
       "      <td>3.613524</td>\n",
       "      <td>11.363636</td>\n",
       "      <td>11.136779</td>\n",
       "      <td>0.069170</td>\n",
       "      <td>0.554695</td>\n",
       "      <td>6.284634</td>\n",
       "      <td>68.574901</td>\n",
       "      <td>3.795043</td>\n",
       "      <td>9.549407</td>\n",
       "      <td>408.237154</td>\n",
       "      <td>18.455534</td>\n",
       "      <td>356.674032</td>\n",
       "      <td>12.653063</td>\n",
       "    </tr>\n",
       "    <tr>\n",
       "      <th>std</th>\n",
       "      <td>8.601545</td>\n",
       "      <td>23.322453</td>\n",
       "      <td>6.860353</td>\n",
       "      <td>0.253994</td>\n",
       "      <td>0.115878</td>\n",
       "      <td>0.702617</td>\n",
       "      <td>28.148861</td>\n",
       "      <td>2.105710</td>\n",
       "      <td>8.707259</td>\n",
       "      <td>168.537116</td>\n",
       "      <td>2.164946</td>\n",
       "      <td>91.294864</td>\n",
       "      <td>7.141062</td>\n",
       "    </tr>\n",
       "    <tr>\n",
       "      <th>min</th>\n",
       "      <td>0.006320</td>\n",
       "      <td>0.000000</td>\n",
       "      <td>0.460000</td>\n",
       "      <td>0.000000</td>\n",
       "      <td>0.385000</td>\n",
       "      <td>3.561000</td>\n",
       "      <td>2.900000</td>\n",
       "      <td>1.129600</td>\n",
       "      <td>1.000000</td>\n",
       "      <td>187.000000</td>\n",
       "      <td>12.600000</td>\n",
       "      <td>0.320000</td>\n",
       "      <td>1.730000</td>\n",
       "    </tr>\n",
       "    <tr>\n",
       "      <th>25%</th>\n",
       "      <td>0.082045</td>\n",
       "      <td>0.000000</td>\n",
       "      <td>5.190000</td>\n",
       "      <td>0.000000</td>\n",
       "      <td>0.449000</td>\n",
       "      <td>5.885500</td>\n",
       "      <td>45.025000</td>\n",
       "      <td>2.100175</td>\n",
       "      <td>4.000000</td>\n",
       "      <td>279.000000</td>\n",
       "      <td>17.400000</td>\n",
       "      <td>375.377500</td>\n",
       "      <td>6.950000</td>\n",
       "    </tr>\n",
       "    <tr>\n",
       "      <th>50%</th>\n",
       "      <td>0.256510</td>\n",
       "      <td>0.000000</td>\n",
       "      <td>9.690000</td>\n",
       "      <td>0.000000</td>\n",
       "      <td>0.538000</td>\n",
       "      <td>6.208500</td>\n",
       "      <td>77.500000</td>\n",
       "      <td>3.207450</td>\n",
       "      <td>5.000000</td>\n",
       "      <td>330.000000</td>\n",
       "      <td>19.050000</td>\n",
       "      <td>391.440000</td>\n",
       "      <td>11.360000</td>\n",
       "    </tr>\n",
       "    <tr>\n",
       "      <th>75%</th>\n",
       "      <td>3.677083</td>\n",
       "      <td>12.500000</td>\n",
       "      <td>18.100000</td>\n",
       "      <td>0.000000</td>\n",
       "      <td>0.624000</td>\n",
       "      <td>6.623500</td>\n",
       "      <td>94.075000</td>\n",
       "      <td>5.188425</td>\n",
       "      <td>24.000000</td>\n",
       "      <td>666.000000</td>\n",
       "      <td>20.200000</td>\n",
       "      <td>396.225000</td>\n",
       "      <td>16.955000</td>\n",
       "    </tr>\n",
       "    <tr>\n",
       "      <th>max</th>\n",
       "      <td>88.976200</td>\n",
       "      <td>100.000000</td>\n",
       "      <td>27.740000</td>\n",
       "      <td>1.000000</td>\n",
       "      <td>0.871000</td>\n",
       "      <td>8.780000</td>\n",
       "      <td>100.000000</td>\n",
       "      <td>12.126500</td>\n",
       "      <td>24.000000</td>\n",
       "      <td>711.000000</td>\n",
       "      <td>22.000000</td>\n",
       "      <td>396.900000</td>\n",
       "      <td>37.970000</td>\n",
       "    </tr>\n",
       "  </tbody>\n",
       "</table>\n",
       "</div>"
      ],
      "text/plain": [
       "             CRIM          ZN       INDUS        CHAS         NOX          RM  \\\n",
       "count  506.000000  506.000000  506.000000  506.000000  506.000000  506.000000   \n",
       "mean     3.613524   11.363636   11.136779    0.069170    0.554695    6.284634   \n",
       "std      8.601545   23.322453    6.860353    0.253994    0.115878    0.702617   \n",
       "min      0.006320    0.000000    0.460000    0.000000    0.385000    3.561000   \n",
       "25%      0.082045    0.000000    5.190000    0.000000    0.449000    5.885500   \n",
       "50%      0.256510    0.000000    9.690000    0.000000    0.538000    6.208500   \n",
       "75%      3.677083   12.500000   18.100000    0.000000    0.624000    6.623500   \n",
       "max     88.976200  100.000000   27.740000    1.000000    0.871000    8.780000   \n",
       "\n",
       "              AGE         DIS         RAD         TAX     PTRATIO           B  \\\n",
       "count  506.000000  506.000000  506.000000  506.000000  506.000000  506.000000   \n",
       "mean    68.574901    3.795043    9.549407  408.237154   18.455534  356.674032   \n",
       "std     28.148861    2.105710    8.707259  168.537116    2.164946   91.294864   \n",
       "min      2.900000    1.129600    1.000000  187.000000   12.600000    0.320000   \n",
       "25%     45.025000    2.100175    4.000000  279.000000   17.400000  375.377500   \n",
       "50%     77.500000    3.207450    5.000000  330.000000   19.050000  391.440000   \n",
       "75%     94.075000    5.188425   24.000000  666.000000   20.200000  396.225000   \n",
       "max    100.000000   12.126500   24.000000  711.000000   22.000000  396.900000   \n",
       "\n",
       "            LSTAT  \n",
       "count  506.000000  \n",
       "mean    12.653063  \n",
       "std      7.141062  \n",
       "min      1.730000  \n",
       "25%      6.950000  \n",
       "50%     11.360000  \n",
       "75%     16.955000  \n",
       "max     37.970000  "
      ]
     },
     "execution_count": 23,
     "metadata": {},
     "output_type": "execute_result"
    }
   ],
   "source": [
    "df = pd.DataFrame(data)\n",
    "df.columns = boston.feature_names\n",
    "df.describe()"
   ]
  },
  {
   "cell_type": "markdown",
   "id": "6bab1116",
   "metadata": {},
   "source": [
    "#### Now we don't know the Column Names so for that we will be reading description provided in the boston dataset as DESCR"
   ]
  },
  {
   "cell_type": "code",
   "execution_count": 14,
   "id": "e8020cdf",
   "metadata": {},
   "outputs": [
    {
     "data": {
      "text/plain": [
       "\".. _boston_dataset:\\n\\nBoston house prices dataset\\n---------------------------\\n\\n**Data Set Characteristics:**  \\n\\n    :Number of Instances: 506 \\n\\n    :Number of Attributes: 13 numeric/categorical predictive. Median Value (attribute 14) is usually the target.\\n\\n    :Attribute Information (in order):\\n        - CRIM     per capita crime rate by town\\n        - ZN       proportion of residential land zoned for lots over 25,000 sq.ft.\\n        - INDUS    proportion of non-retail business acres per town\\n        - CHAS     Charles River dummy variable (= 1 if tract bounds river; 0 otherwise)\\n        - NOX      nitric oxides concentration (parts per 10 million)\\n        - RM       average number of rooms per dwelling\\n        - AGE      proportion of owner-occupied units built prior to 1940\\n        - DIS      weighted distances to five Boston employment centres\\n        - RAD      index of accessibility to radial highways\\n        - TAX      full-value property-tax rate per $10,000\\n        - PTRATIO  pupil-teacher ratio by town\\n        - B        1000(Bk - 0.63)^2 where Bk is the proportion of black people by town\\n        - LSTAT    % lower status of the population\\n        - MEDV     Median value of owner-occupied homes in $1000's\\n\\n    :Missing Attribute Values: None\\n\\n    :Creator: Harrison, D. and Rubinfeld, D.L.\\n\\nThis is a copy of UCI ML housing dataset.\\nhttps://archive.ics.uci.edu/ml/machine-learning-databases/housing/\\n\\n\\nThis dataset was taken from the StatLib library which is maintained at Carnegie Mellon University.\\n\\nThe Boston house-price data of Harrison, D. and Rubinfeld, D.L. 'Hedonic\\nprices and the demand for clean air', J. Environ. Economics & Management,\\nvol.5, 81-102, 1978.   Used in Belsley, Kuh & Welsch, 'Regression diagnostics\\n...', Wiley, 1980.   N.B. Various transformations are used in the table on\\npages 244-261 of the latter.\\n\\nThe Boston house-price data has been used in many machine learning papers that address regression\\nproblems.   \\n     \\n.. topic:: References\\n\\n   - Belsley, Kuh & Welsch, 'Regression diagnostics: Identifying Influential Data and Sources of Collinearity', Wiley, 1980. 244-261.\\n   - Quinlan,R. (1993). Combining Instance-Based and Model-Based Learning. In Proceedings on the Tenth International Conference of Machine Learning, 236-243, University of Massachusetts, Amherst. Morgan Kaufmann.\\n\""
      ]
     },
     "execution_count": 14,
     "metadata": {},
     "output_type": "execute_result"
    }
   ],
   "source": [
    "boston.DESCR"
   ]
  },
  {
   "cell_type": "markdown",
   "id": "814523b2",
   "metadata": {},
   "source": [
    "#### Now with the help of above description we will be knowing each and every aspect of boston data."
   ]
  },
  {
   "cell_type": "markdown",
   "id": "3289ae75",
   "metadata": {},
   "source": [
    "## Traning an Algorithm for Boston Dataset"
   ]
  },
  {
   "cell_type": "markdown",
   "id": "56d12120",
   "metadata": {},
   "source": [
    "### Randomly Spliting the Data using SKLearn"
   ]
  },
  {
   "cell_type": "code",
   "execution_count": 7,
   "id": "38ebccdc",
   "metadata": {},
   "outputs": [],
   "source": [
    "from sklearn import model_selection"
   ]
  },
  {
   "cell_type": "markdown",
   "id": "2c1f0faa",
   "metadata": {},
   "source": [
    "### train_test_split Function"
   ]
  },
  {
   "cell_type": "code",
   "execution_count": 28,
   "id": "1a957915",
   "metadata": {},
   "outputs": [],
   "source": [
    "data_train,data_test,target_train,target_test = model_selection.train_test_split(data,target)"
   ]
  },
  {
   "cell_type": "code",
   "execution_count": 31,
   "id": "acc7975c",
   "metadata": {},
   "outputs": [
    {
     "name": "stdout",
     "output_type": "stream",
     "text": [
      "[[2.99160e-01 2.00000e+01 6.96000e+00 ... 1.86000e+01 3.88650e+02\n",
      "  1.30000e+01]\n",
      " [1.07930e-01 0.00000e+00 8.56000e+00 ... 2.09000e+01 3.93490e+02\n",
      "  1.30000e+01]\n",
      " [7.02200e-02 0.00000e+00 4.05000e+00 ... 1.66000e+01 3.93230e+02\n",
      "  1.01100e+01]\n",
      " ...\n",
      " [9.25200e-02 3.00000e+01 4.93000e+00 ... 1.66000e+01 3.83780e+02\n",
      "  7.37000e+00]\n",
      " [3.54800e-02 8.00000e+01 3.64000e+00 ... 1.64000e+01 3.95180e+02\n",
      "  9.25000e+00]\n",
      " [1.50234e+01 0.00000e+00 1.81000e+01 ... 2.02000e+01 3.49480e+02\n",
      "  2.49100e+01]]\n",
      "\n",
      "[[7.24400e-02 6.00000e+01 1.69000e+00 ... 1.83000e+01 3.92330e+02\n",
      "  7.79000e+00]\n",
      " [3.51140e-01 0.00000e+00 7.38000e+00 ... 1.96000e+01 3.96900e+02\n",
      "  7.70000e+00]\n",
      " [6.71910e-01 0.00000e+00 8.14000e+00 ... 2.10000e+01 3.76880e+02\n",
      "  1.48100e+01]\n",
      " ...\n",
      " [1.96091e+01 0.00000e+00 1.81000e+01 ... 2.02000e+01 3.96900e+02\n",
      "  1.34400e+01]\n",
      " [1.77830e-01 0.00000e+00 9.69000e+00 ... 1.92000e+01 3.95770e+02\n",
      "  1.51000e+01]\n",
      " [2.20511e+01 0.00000e+00 1.81000e+01 ... 2.02000e+01 3.91450e+02\n",
      "  2.21100e+01]]\n",
      "\n",
      "[21.1 21.7 23.2 23.  21.1 10.9 21.5 22.8 37.3 18.7 10.2 21.2 37.  28.5\n",
      " 13.8 15.6 20.5 19.2 20.8 22.4 20.7 50.  21.7 24.1 23.7 21.9 19.  16.1\n",
      " 35.4 23.4 29.1  5.  32.7 20.1 26.6 48.5 50.  33.1 33.4 25.2 15.1 17.1\n",
      " 18.9 23.7 24.7  8.8 19.1 19.6 16.1 18.5 21.4 22.4 13.4 25.3 15.6 12.7\n",
      " 44.8 23.8 23.7 22.2 24.3  7.5 21.  32.2 33.3 20.3 21.2 23.2 17.1 24.8\n",
      " 22.5  9.6 26.5 12.5 31.6 17.2  5.  27.5 23.2 10.2 20.5 24.8 19.1 13.5\n",
      " 36.  42.8 18.3 18.7 18.9 20.8 23.9 22.  30.1 36.2 18.5 41.7 12.6 28.7\n",
      " 30.1 15.6 15.6 36.4 25.  12.3 22.2 48.3 20.  16.2 19.5 12.8 14.1 22.2\n",
      " 22.2 23.8 24.3 20.2  8.1 27.9 19.6 29.  50.  22.1 11.8 31.5  7.  18.4\n",
      " 25.  24.  14.1 50.  13.2 50.  31.  21.6 14.2 22.  18.2 25.  25.  19.6\n",
      " 22.9 18.8 27.5 28.2 13.3 26.4 20.5 17.  17.6 31.1 19.1 30.5 21.7 42.3\n",
      " 17.1 11.5 22.  29.1 13.8 22.  22.  25.  13.1 21.7 18.9 18.9 13.3 20.\n",
      " 15.2 35.1 24.5 20.3 10.9  8.4 19.4 16.5 43.8 11.7 39.8 19.9 22.9 23.1\n",
      " 31.7 23.8 13.5 22.9 32.  15.7 24.8 21.4 28.  23.9 50.  28.7 37.2 14.8\n",
      " 24.4 23.1 22.  25.  21.7 28.1 18.2 13.1 22.6 33.2 29.8 11.9 14.6 23.1\n",
      " 19.3 27.5 20.1 17.8 35.2 20.6 13.  28.4 36.2 43.5 18.4 19.7 30.3 23.1\n",
      " 46.  19.4 23.9 16.8 19.1 24.7 12.7 26.4  8.3  6.3 19.5 20.7 21.5 17.4\n",
      " 50.  43.1 23.7 16.1 21.2 21.2 34.6 21.4 16.  15.6 27.1 22.  17.5 18.1\n",
      "  7.2 10.8 21.  28.4 19.4 13.1 50.  21.7 14.9 22.5 19.4 21.8  9.5 19.3\n",
      " 14.3 22.6  8.7 29.4 24.6 14.4 17.8 17.9 15.2 19.3  8.5 23.  24.3 22.3\n",
      " 24.4 17.5 16.3 19.3 21.2 32.4 13.8 21.6 11.9  9.7 23.1 11.3 30.7 19.5\n",
      " 37.6 34.7 19.8 19.2 20.6 30.8 13.4 18.4 13.4 15.4 45.4 25.1 35.4 33.1\n",
      " 33.  20.  34.9 16.2 23.6 19.6 12.1 29.6 20.  33.2 17.2 31.6 37.9  8.5\n",
      " 24.4 14.5 30.1 13.3 20.4 13.8 22.6 17.2 17.8 29.9 16.7 11.   7.2 24.1\n",
      "  7.  21.9 31.5 13.1 20.1 15.  14.3 34.9 20.6 13.8 14.6 20.1 20.  10.4\n",
      " 19.9 26.6  7.2 18.5  7.4 17.8 50.  22.7 18.5 31.2 10.5 21.4 22.8 19.6\n",
      " 23.  20.4 13.9 25.  33.8 23.3 19.7 13.4 32.9 23.3 27.1 20.2 23.3 20.9\n",
      " 12. ]\n",
      "\n",
      "[18.6 20.4 16.6 50.  19.  13.6 24.  36.1 22.8 27.9 50.  18.  24.1 50.\n",
      " 27.  18.8 23.2 23.5 21.  19.5 24.5 14.4 22.3 26.7 29.  20.9 20.3 13.9\n",
      " 16.5 15.2 23.9  8.3 25.  14.5 23.8 24.7 15.4 17.7 50.  20.1  5.6 20.6\n",
      " 19.4 20.6 24.6 17.4 14.9 18.7 23.  14.  18.3 32.5 19.9 17.8 27.5 28.7\n",
      " 33.4 18.2 36.5 24.8 19.4 23.9 21.9 34.9 15.  22.6 23.6 26.2 23.3 14.5\n",
      " 16.7 20.4 22.6 20.6 17.3 10.4 15.3 20.3 13.6 21.8 18.6 16.8 21.7 46.7\n",
      " 28.6 24.2 41.3  8.4 50.  22.9 23.4 22.8 23.1  8.8 11.8 48.8 14.9 24.4\n",
      " 19.9 19.3 44.  32.  26.6 22.2 29.6 16.4 50.  16.6 21.4 23.1 50.  22.5\n",
      " 10.2 19.8 24.5 11.7 29.8 20.8 14.1 19.8 38.7 17.4 12.7 22.7 15.  17.5\n",
      " 10.5]\n"
     ]
    }
   ],
   "source": [
    "print(data_train)\n",
    "print()\n",
    "print(data_test)\n",
    "print()\n",
    "print(target_train)\n",
    "print()\n",
    "print(target_test)"
   ]
  },
  {
   "cell_type": "markdown",
   "id": "78aa8241",
   "metadata": {},
   "source": [
    "### Checking the Size of each Dataset"
   ]
  },
  {
   "cell_type": "code",
   "execution_count": 33,
   "id": "2e897a65",
   "metadata": {},
   "outputs": [
    {
     "name": "stdout",
     "output_type": "stream",
     "text": [
      "data_train (379, 13)\n",
      "data_test (127, 13)\n",
      "target_train (379,)\n",
      "target_test (127,)\n"
     ]
    }
   ],
   "source": [
    "print(\"data_train\",data_train.shape)\n",
    "print(\"data_test\",data_test.shape)\n",
    "print(\"target_train\",target_train.shape)\n",
    "print(\"target_test\",target_test.shape)"
   ]
  },
  {
   "cell_type": "markdown",
   "id": "b086638d",
   "metadata": {},
   "source": [
    "### Importing Linear Regression for Training"
   ]
  },
  {
   "cell_type": "code",
   "execution_count": 11,
   "id": "9426b538",
   "metadata": {},
   "outputs": [],
   "source": [
    "from sklearn.linear_model import LinearRegression\n",
    "alg1 = LinearRegression()"
   ]
  },
  {
   "cell_type": "markdown",
   "id": "b76d682c",
   "metadata": {},
   "source": [
    "### Adding the Train Data to train the Algorithm"
   ]
  },
  {
   "cell_type": "code",
   "execution_count": 36,
   "id": "b27dd6da",
   "metadata": {},
   "outputs": [
    {
     "data": {
      "text/plain": [
       "LinearRegression()"
      ]
     },
     "execution_count": 36,
     "metadata": {},
     "output_type": "execute_result"
    }
   ],
   "source": [
    "alg1.fit(data_train,target_train)"
   ]
  },
  {
   "cell_type": "markdown",
   "id": "d8c180fb",
   "metadata": {},
   "source": [
    "### Predicting the Output for Test Data"
   ]
  },
  {
   "cell_type": "code",
   "execution_count": 40,
   "id": "e8beadbe",
   "metadata": {},
   "outputs": [
    {
     "data": {
      "text/plain": [
       "array([17.7666209 , 23.20760316, 15.79923115, 42.95941202, 21.64328814,\n",
       "       12.73981643, 25.27058621, 32.87127514, 27.71144473, 30.93176432,\n",
       "       24.37618646, 19.07662925, 26.19318305, 43.9400537 , 32.39268812,\n",
       "       20.06483296, 22.48207859, 29.83538518, 21.23994368, 20.6070294 ,\n",
       "       27.34084712,  4.28927859, 26.48396519, 33.02882512, 31.98400652,\n",
       "       21.38879542, 23.54944367, 17.82066004, 23.2107004 , 16.18509226,\n",
       "       26.36988702, 12.85040613, 22.73805451, 18.21335971, 23.02270088,\n",
       "       23.313978  , 15.18951422, 20.29927053, 40.11491274, 23.65282298,\n",
       "       11.99939469, 26.35796238, 23.72910301, 22.61461321, 29.01557068,\n",
       "       22.4045619 , 15.56618712, 21.68983134, 23.46146436, 13.90240695,\n",
       "       20.48484853, 30.48665067, 20.14205251, 22.75918776, 24.74123168,\n",
       "       31.03055805, 29.20663333, 18.64817187, 35.27313905, 26.15735497,\n",
       "       17.53310999, 27.48712586, 37.86432979, 34.33827364, 14.7422793 ,\n",
       "       25.28720976, 28.81613679, 24.89365102, 25.74496948, 18.04416054,\n",
       "       19.54639037, 20.74980984, 27.18862741, 21.43293449, 16.0515443 ,\n",
       "        6.98607569, 20.33265287, 22.05293583, 14.35666581, 20.86762949,\n",
       "       19.88652987, 20.62158785, 24.79252112, 35.91543502, 29.02497953,\n",
       "       25.94150638, 32.91155411, 15.05706523, 40.43082969, 28.45473747,\n",
       "       24.77713694, 25.18876531, 10.0262843 ,  3.25352115,  9.1273638 ,\n",
       "       40.66244772, 17.44985865, 28.23036219, 19.7367676 , 21.01355415,\n",
       "       36.61190762, 33.03757183, 28.01143884, 24.06180617, 24.70765173,\n",
       "       19.28918542, 34.1394324 , 18.36574299, 21.99623032, 25.17280454,\n",
       "       42.02659216, 22.53930046,  6.4429775 , 22.61596484, 21.84369253,\n",
       "       14.50127379, 32.1856165 , 18.21146835, 16.08979304, 22.63045115,\n",
       "       35.95573055, 16.04415491, 12.89519403, 22.51051095, 25.21797079,\n",
       "       18.57981544, 12.8823316 ])"
      ]
     },
     "execution_count": 40,
     "metadata": {},
     "output_type": "execute_result"
    }
   ],
   "source": [
    "target_pred = alg1.predict(data_test)\n",
    "target_pred"
   ]
  },
  {
   "cell_type": "markdown",
   "id": "ab4cd24f",
   "metadata": {},
   "source": [
    "### Compare target_pred and target_test"
   ]
  },
  {
   "cell_type": "code",
   "execution_count": 14,
   "id": "20765758",
   "metadata": {},
   "outputs": [],
   "source": [
    "import matplotlib.pyplot as plt\n",
    "import numpy as np"
   ]
  },
  {
   "cell_type": "code",
   "execution_count": 48,
   "id": "051cb3f6",
   "metadata": {},
   "outputs": [
    {
     "data": {
      "image/png": "[encoded data removed]",
      "text/plain": [
       "<Figure size 432x288 with 1 Axes>"
      ]
     },
     "metadata": {
      "needs_background": "light"
     },
     "output_type": "display_data"
    }
   ],
   "source": [
    "plt.scatter(target_test, target_pred)\n",
    "line = np.arange(0,40,1)\n",
    "plt.plot(line)\n",
    "plt.axis([0,40,0,40])\n",
    "plt.show()"
   ]
  },
  {
   "cell_type": "markdown",
   "id": "6a6059f3",
   "metadata": {},
   "source": [
    "## Diabetes Dataset"
   ]
  },
  {
   "cell_type": "code",
   "execution_count": 3,
   "id": "9b0854cc",
   "metadata": {},
   "outputs": [
    {
     "data": {
      "text/plain": [
       "{'data': array([[ 0.03807591,  0.05068012,  0.06169621, ..., -0.00259226,\n",
       "          0.01990842, -0.01764613],\n",
       "        [-0.00188202, -0.04464164, -0.05147406, ..., -0.03949338,\n",
       "         -0.06832974, -0.09220405],\n",
       "        [ 0.08529891,  0.05068012,  0.04445121, ..., -0.00259226,\n",
       "          0.00286377, -0.02593034],\n",
       "        ...,\n",
       "        [ 0.04170844,  0.05068012, -0.01590626, ..., -0.01107952,\n",
       "         -0.04687948,  0.01549073],\n",
       "        [-0.04547248, -0.04464164,  0.03906215, ...,  0.02655962,\n",
       "          0.04452837, -0.02593034],\n",
       "        [-0.04547248, -0.04464164, -0.0730303 , ..., -0.03949338,\n",
       "         -0.00421986,  0.00306441]]),\n",
       " 'target': array([151.,  75., 141., 206., 135.,  97., 138.,  63., 110., 310., 101.,\n",
       "         69., 179., 185., 118., 171., 166., 144.,  97., 168.,  68.,  49.,\n",
       "         68., 245., 184., 202., 137.,  85., 131., 283., 129.,  59., 341.,\n",
       "         87.,  65., 102., 265., 276., 252.,  90., 100.,  55.,  61.,  92.,\n",
       "        259.,  53., 190., 142.,  75., 142., 155., 225.,  59., 104., 182.,\n",
       "        128.,  52.,  37., 170., 170.,  61., 144.,  52., 128.,  71., 163.,\n",
       "        150.,  97., 160., 178.,  48., 270., 202., 111.,  85.,  42., 170.,\n",
       "        200., 252., 113., 143.,  51.,  52., 210.,  65., 141.,  55., 134.,\n",
       "         42., 111.,  98., 164.,  48.,  96.,  90., 162., 150., 279.,  92.,\n",
       "         83., 128., 102., 302., 198.,  95.,  53., 134., 144., 232.,  81.,\n",
       "        104.,  59., 246., 297., 258., 229., 275., 281., 179., 200., 200.,\n",
       "        173., 180.,  84., 121., 161.,  99., 109., 115., 268., 274., 158.,\n",
       "        107.,  83., 103., 272.,  85., 280., 336., 281., 118., 317., 235.,\n",
       "         60., 174., 259., 178., 128.,  96., 126., 288.,  88., 292.,  71.,\n",
       "        197., 186.,  25.,  84.,  96., 195.,  53., 217., 172., 131., 214.,\n",
       "         59.,  70., 220., 268., 152.,  47.,  74., 295., 101., 151., 127.,\n",
       "        237., 225.,  81., 151., 107.,  64., 138., 185., 265., 101., 137.,\n",
       "        143., 141.,  79., 292., 178.,  91., 116.,  86., 122.,  72., 129.,\n",
       "        142.,  90., 158.,  39., 196., 222., 277.,  99., 196., 202., 155.,\n",
       "         77., 191.,  70.,  73.,  49.,  65., 263., 248., 296., 214., 185.,\n",
       "         78.,  93., 252., 150.,  77., 208.,  77., 108., 160.,  53., 220.,\n",
       "        154., 259.,  90., 246., 124.,  67.,  72., 257., 262., 275., 177.,\n",
       "         71.,  47., 187., 125.,  78.,  51., 258., 215., 303., 243.,  91.,\n",
       "        150., 310., 153., 346.,  63.,  89.,  50.,  39., 103., 308., 116.,\n",
       "        145.,  74.,  45., 115., 264.,  87., 202., 127., 182., 241.,  66.,\n",
       "         94., 283.,  64., 102., 200., 265.,  94., 230., 181., 156., 233.,\n",
       "         60., 219.,  80.,  68., 332., 248.,  84., 200.,  55.,  85.,  89.,\n",
       "         31., 129.,  83., 275.,  65., 198., 236., 253., 124.,  44., 172.,\n",
       "        114., 142., 109., 180., 144., 163., 147.,  97., 220., 190., 109.,\n",
       "        191., 122., 230., 242., 248., 249., 192., 131., 237.,  78., 135.,\n",
       "        244., 199., 270., 164.,  72.,  96., 306.,  91., 214.,  95., 216.,\n",
       "        263., 178., 113., 200., 139., 139.,  88., 148.,  88., 243.,  71.,\n",
       "         77., 109., 272.,  60.,  54., 221.,  90., 311., 281., 182., 321.,\n",
       "         58., 262., 206., 233., 242., 123., 167.,  63., 197.,  71., 168.,\n",
       "        140., 217., 121., 235., 245.,  40.,  52., 104., 132.,  88.,  69.,\n",
       "        219.,  72., 201., 110.,  51., 277.,  63., 118.,  69., 273., 258.,\n",
       "         43., 198., 242., 232., 175.,  93., 168., 275., 293., 281.,  72.,\n",
       "        140., 189., 181., 209., 136., 261., 113., 131., 174., 257.,  55.,\n",
       "         84.,  42., 146., 212., 233.,  91., 111., 152., 120.,  67., 310.,\n",
       "         94., 183.,  66., 173.,  72.,  49.,  64.,  48., 178., 104., 132.,\n",
       "        220.,  57.]),\n",
       " 'frame': None,\n",
       " 'DESCR': '.. _diabetes_dataset:\\n\\nDiabetes dataset\\n----------------\\n\\nTen baseline variables, age, sex, body mass index, average blood\\npressure, and six blood serum measurements were obtained for each of n =\\n442 diabetes patients, as well as the response of interest, a\\nquantitative measure of disease progression one year after baseline.\\n\\n**Data Set Characteristics:**\\n\\n  :Number of Instances: 442\\n\\n  :Number of Attributes: First 10 columns are numeric predictive values\\n\\n  :Target: Column 11 is a quantitative measure of disease progression one year after baseline\\n\\n  :Attribute Information:\\n      - age     age in years\\n      - sex\\n      - bmi     body mass index\\n      - bp      average blood pressure\\n      - s1      tc, total serum cholesterol\\n      - s2      ldl, low-density lipoproteins\\n      - s3      hdl, high-density lipoproteins\\n      - s4      tch, total cholesterol / HDL\\n      - s5      ltg, possibly log of serum triglycerides level\\n      - s6      glu, blood sugar level\\n\\nNote: Each of these 10 feature variables have been mean centered and scaled by the standard deviation times `n_samples` (i.e. the sum of squares of each column totals 1).\\n\\nSource URL:\\nhttps://www4.stat.ncsu.edu/~boos/var.select/diabetes.html\\n\\nFor more information see:\\nBradley Efron, Trevor Hastie, Iain Johnstone and Robert Tibshirani (2004) \"Least Angle Regression,\" Annals of Statistics (with discussion), 407-499.\\n(https://web.stanford.edu/~hastie/Papers/LARS/LeastAngle_2002.pdf)',\n",
       " 'feature_names': ['age',\n",
       "  'sex',\n",
       "  'bmi',\n",
       "  'bp',\n",
       "  's1',\n",
       "  's2',\n",
       "  's3',\n",
       "  's4',\n",
       "  's5',\n",
       "  's6'],\n",
       " 'data_filename': 'diabetes_data.csv.gz',\n",
       " 'target_filename': 'diabetes_target.csv.gz',\n",
       " 'data_module': 'sklearn.datasets.data'}"
      ]
     },
     "execution_count": 3,
     "metadata": {},
     "output_type": "execute_result"
    }
   ],
   "source": [
    "diabetes = datasets.load_diabetes()\n",
    "diabetes"
   ]
  },
  {
   "cell_type": "markdown",
   "id": "e0397b58",
   "metadata": {},
   "source": [
    "### Dividing Data"
   ]
  },
  {
   "cell_type": "code",
   "execution_count": 4,
   "id": "a4ac67c9",
   "metadata": {},
   "outputs": [
    {
     "name": "stdout",
     "output_type": "stream",
     "text": [
      "[[ 0.03807591  0.05068012  0.06169621 ... -0.00259226  0.01990842\n",
      "  -0.01764613]\n",
      " [-0.00188202 -0.04464164 -0.05147406 ... -0.03949338 -0.06832974\n",
      "  -0.09220405]\n",
      " [ 0.08529891  0.05068012  0.04445121 ... -0.00259226  0.00286377\n",
      "  -0.02593034]\n",
      " ...\n",
      " [ 0.04170844  0.05068012 -0.01590626 ... -0.01107952 -0.04687948\n",
      "   0.01549073]\n",
      " [-0.04547248 -0.04464164  0.03906215 ...  0.02655962  0.04452837\n",
      "  -0.02593034]\n",
      " [-0.04547248 -0.04464164 -0.0730303  ... -0.03949338 -0.00421986\n",
      "   0.00306441]]\n",
      "[151.  75. 141. 206. 135.  97. 138.  63. 110. 310. 101.  69. 179. 185.\n",
      " 118. 171. 166. 144.  97. 168.  68.  49.  68. 245. 184. 202. 137.  85.\n",
      " 131. 283. 129.  59. 341.  87.  65. 102. 265. 276. 252.  90. 100.  55.\n",
      "  61.  92. 259.  53. 190. 142.  75. 142. 155. 225.  59. 104. 182. 128.\n",
      "  52.  37. 170. 170.  61. 144.  52. 128.  71. 163. 150.  97. 160. 178.\n",
      "  48. 270. 202. 111.  85.  42. 170. 200. 252. 113. 143.  51.  52. 210.\n",
      "  65. 141.  55. 134.  42. 111.  98. 164.  48.  96.  90. 162. 150. 279.\n",
      "  92.  83. 128. 102. 302. 198.  95.  53. 134. 144. 232.  81. 104.  59.\n",
      " 246. 297. 258. 229. 275. 281. 179. 200. 200. 173. 180.  84. 121. 161.\n",
      "  99. 109. 115. 268. 274. 158. 107.  83. 103. 272.  85. 280. 336. 281.\n",
      " 118. 317. 235.  60. 174. 259. 178. 128.  96. 126. 288.  88. 292.  71.\n",
      " 197. 186.  25.  84.  96. 195.  53. 217. 172. 131. 214.  59.  70. 220.\n",
      " 268. 152.  47.  74. 295. 101. 151. 127. 237. 225.  81. 151. 107.  64.\n",
      " 138. 185. 265. 101. 137. 143. 141.  79. 292. 178.  91. 116.  86. 122.\n",
      "  72. 129. 142.  90. 158.  39. 196. 222. 277.  99. 196. 202. 155.  77.\n",
      " 191.  70.  73.  49.  65. 263. 248. 296. 214. 185.  78.  93. 252. 150.\n",
      "  77. 208.  77. 108. 160.  53. 220. 154. 259.  90. 246. 124.  67.  72.\n",
      " 257. 262. 275. 177.  71.  47. 187. 125.  78.  51. 258. 215. 303. 243.\n",
      "  91. 150. 310. 153. 346.  63.  89.  50.  39. 103. 308. 116. 145.  74.\n",
      "  45. 115. 264.  87. 202. 127. 182. 241.  66.  94. 283.  64. 102. 200.\n",
      " 265.  94. 230. 181. 156. 233.  60. 219.  80.  68. 332. 248.  84. 200.\n",
      "  55.  85.  89.  31. 129.  83. 275.  65. 198. 236. 253. 124.  44. 172.\n",
      " 114. 142. 109. 180. 144. 163. 147.  97. 220. 190. 109. 191. 122. 230.\n",
      " 242. 248. 249. 192. 131. 237.  78. 135. 244. 199. 270. 164.  72.  96.\n",
      " 306.  91. 214.  95. 216. 263. 178. 113. 200. 139. 139.  88. 148.  88.\n",
      " 243.  71.  77. 109. 272.  60.  54. 221.  90. 311. 281. 182. 321.  58.\n",
      " 262. 206. 233. 242. 123. 167.  63. 197.  71. 168. 140. 217. 121. 235.\n",
      " 245.  40.  52. 104. 132.  88.  69. 219.  72. 201. 110.  51. 277.  63.\n",
      " 118.  69. 273. 258.  43. 198. 242. 232. 175.  93. 168. 275. 293. 281.\n",
      "  72. 140. 189. 181. 209. 136. 261. 113. 131. 174. 257.  55.  84.  42.\n",
      " 146. 212. 233.  91. 111. 152. 120.  67. 310.  94. 183.  66. 173.  72.\n",
      "  49.  64.  48. 178. 104. 132. 220.  57.]\n"
     ]
    }
   ],
   "source": [
    "diabetes_data = diabetes.data\n",
    "diabetes_target = diabetes.target\n",
    "print(diabetes_data)\n",
    "print(diabetes_target)"
   ]
  },
  {
   "cell_type": "markdown",
   "id": "3dad2e12",
   "metadata": {},
   "source": [
    "### Convert Data to DataFrames"
   ]
  },
  {
   "cell_type": "code",
   "execution_count": 6,
   "id": "6b685daa",
   "metadata": {},
   "outputs": [
    {
     "data": {
      "text/html": [
       "<div>\n",
       "<style scoped>\n",
       "    .dataframe tbody tr th:only-of-type {\n",
       "        vertical-align: middle;\n",
       "    }\n",
       "\n",
       "    .dataframe tbody tr th {\n",
       "        vertical-align: top;\n",
       "    }\n",
       "\n",
       "    .dataframe thead th {\n",
       "        text-align: right;\n",
       "    }\n",
       "</style>\n",
       "<table border=\"1\" class=\"dataframe\">\n",
       "  <thead>\n",
       "    <tr style=\"text-align: right;\">\n",
       "      <th></th>\n",
       "      <th>age</th>\n",
       "      <th>sex</th>\n",
       "      <th>bmi</th>\n",
       "      <th>bp</th>\n",
       "      <th>s1</th>\n",
       "      <th>s2</th>\n",
       "      <th>s3</th>\n",
       "      <th>s4</th>\n",
       "      <th>s5</th>\n",
       "      <th>s6</th>\n",
       "    </tr>\n",
       "  </thead>\n",
       "  <tbody>\n",
       "    <tr>\n",
       "      <th>count</th>\n",
       "      <td>4.420000e+02</td>\n",
       "      <td>4.420000e+02</td>\n",
       "      <td>4.420000e+02</td>\n",
       "      <td>4.420000e+02</td>\n",
       "      <td>4.420000e+02</td>\n",
       "      <td>4.420000e+02</td>\n",
       "      <td>4.420000e+02</td>\n",
       "      <td>4.420000e+02</td>\n",
       "      <td>4.420000e+02</td>\n",
       "      <td>4.420000e+02</td>\n",
       "    </tr>\n",
       "    <tr>\n",
       "      <th>mean</th>\n",
       "      <td>-3.634285e-16</td>\n",
       "      <td>1.308343e-16</td>\n",
       "      <td>-8.045349e-16</td>\n",
       "      <td>1.281655e-16</td>\n",
       "      <td>-8.835316e-17</td>\n",
       "      <td>1.327024e-16</td>\n",
       "      <td>-4.574646e-16</td>\n",
       "      <td>3.777301e-16</td>\n",
       "      <td>-3.830854e-16</td>\n",
       "      <td>-3.412882e-16</td>\n",
       "    </tr>\n",
       "    <tr>\n",
       "      <th>std</th>\n",
       "      <td>4.761905e-02</td>\n",
       "      <td>4.761905e-02</td>\n",
       "      <td>4.761905e-02</td>\n",
       "      <td>4.761905e-02</td>\n",
       "      <td>4.761905e-02</td>\n",
       "      <td>4.761905e-02</td>\n",
       "      <td>4.761905e-02</td>\n",
       "      <td>4.761905e-02</td>\n",
       "      <td>4.761905e-02</td>\n",
       "      <td>4.761905e-02</td>\n",
       "    </tr>\n",
       "    <tr>\n",
       "      <th>min</th>\n",
       "      <td>-1.072256e-01</td>\n",
       "      <td>-4.464164e-02</td>\n",
       "      <td>-9.027530e-02</td>\n",
       "      <td>-1.123996e-01</td>\n",
       "      <td>-1.267807e-01</td>\n",
       "      <td>-1.156131e-01</td>\n",
       "      <td>-1.023071e-01</td>\n",
       "      <td>-7.639450e-02</td>\n",
       "      <td>-1.260974e-01</td>\n",
       "      <td>-1.377672e-01</td>\n",
       "    </tr>\n",
       "    <tr>\n",
       "      <th>25%</th>\n",
       "      <td>-3.729927e-02</td>\n",
       "      <td>-4.464164e-02</td>\n",
       "      <td>-3.422907e-02</td>\n",
       "      <td>-3.665645e-02</td>\n",
       "      <td>-3.424784e-02</td>\n",
       "      <td>-3.035840e-02</td>\n",
       "      <td>-3.511716e-02</td>\n",
       "      <td>-3.949338e-02</td>\n",
       "      <td>-3.324879e-02</td>\n",
       "      <td>-3.317903e-02</td>\n",
       "    </tr>\n",
       "    <tr>\n",
       "      <th>50%</th>\n",
       "      <td>5.383060e-03</td>\n",
       "      <td>-4.464164e-02</td>\n",
       "      <td>-7.283766e-03</td>\n",
       "      <td>-5.670611e-03</td>\n",
       "      <td>-4.320866e-03</td>\n",
       "      <td>-3.819065e-03</td>\n",
       "      <td>-6.584468e-03</td>\n",
       "      <td>-2.592262e-03</td>\n",
       "      <td>-1.947634e-03</td>\n",
       "      <td>-1.077698e-03</td>\n",
       "    </tr>\n",
       "    <tr>\n",
       "      <th>75%</th>\n",
       "      <td>3.807591e-02</td>\n",
       "      <td>5.068012e-02</td>\n",
       "      <td>3.124802e-02</td>\n",
       "      <td>3.564384e-02</td>\n",
       "      <td>2.835801e-02</td>\n",
       "      <td>2.984439e-02</td>\n",
       "      <td>2.931150e-02</td>\n",
       "      <td>3.430886e-02</td>\n",
       "      <td>3.243323e-02</td>\n",
       "      <td>2.791705e-02</td>\n",
       "    </tr>\n",
       "    <tr>\n",
       "      <th>max</th>\n",
       "      <td>1.107267e-01</td>\n",
       "      <td>5.068012e-02</td>\n",
       "      <td>1.705552e-01</td>\n",
       "      <td>1.320442e-01</td>\n",
       "      <td>1.539137e-01</td>\n",
       "      <td>1.987880e-01</td>\n",
       "      <td>1.811791e-01</td>\n",
       "      <td>1.852344e-01</td>\n",
       "      <td>1.335990e-01</td>\n",
       "      <td>1.356118e-01</td>\n",
       "    </tr>\n",
       "  </tbody>\n",
       "</table>\n",
       "</div>"
      ],
      "text/plain": [
       "                age           sex           bmi            bp            s1  \\\n",
       "count  4.420000e+02  4.420000e+02  4.420000e+02  4.420000e+02  4.420000e+02   \n",
       "mean  -3.634285e-16  1.308343e-16 -8.045349e-16  1.281655e-16 -8.835316e-17   \n",
       "std    4.761905e-02  4.761905e-02  4.761905e-02  4.761905e-02  4.761905e-02   \n",
       "min   -1.072256e-01 -4.464164e-02 -9.027530e-02 -1.123996e-01 -1.267807e-01   \n",
       "25%   -3.729927e-02 -4.464164e-02 -3.422907e-02 -3.665645e-02 -3.424784e-02   \n",
       "50%    5.383060e-03 -4.464164e-02 -7.283766e-03 -5.670611e-03 -4.320866e-03   \n",
       "75%    3.807591e-02  5.068012e-02  3.124802e-02  3.564384e-02  2.835801e-02   \n",
       "max    1.107267e-01  5.068012e-02  1.705552e-01  1.320442e-01  1.539137e-01   \n",
       "\n",
       "                 s2            s3            s4            s5            s6  \n",
       "count  4.420000e+02  4.420000e+02  4.420000e+02  4.420000e+02  4.420000e+02  \n",
       "mean   1.327024e-16 -4.574646e-16  3.777301e-16 -3.830854e-16 -3.412882e-16  \n",
       "std    4.761905e-02  4.761905e-02  4.761905e-02  4.761905e-02  4.761905e-02  \n",
       "min   -1.156131e-01 -1.023071e-01 -7.639450e-02 -1.260974e-01 -1.377672e-01  \n",
       "25%   -3.035840e-02 -3.511716e-02 -3.949338e-02 -3.324879e-02 -3.317903e-02  \n",
       "50%   -3.819065e-03 -6.584468e-03 -2.592262e-03 -1.947634e-03 -1.077698e-03  \n",
       "75%    2.984439e-02  2.931150e-02  3.430886e-02  3.243323e-02  2.791705e-02  \n",
       "max    1.987880e-01  1.811791e-01  1.852344e-01  1.335990e-01  1.356118e-01  "
      ]
     },
     "execution_count": 6,
     "metadata": {},
     "output_type": "execute_result"
    }
   ],
   "source": [
    "df = pd.DataFrame(diabetes_data)\n",
    "df.columns = diabetes.feature_names\n",
    "df.describe()"
   ]
  },
  {
   "cell_type": "markdown",
   "id": "7ae217aa",
   "metadata": {},
   "source": [
    "### Training an Algorithm"
   ]
  },
  {
   "cell_type": "code",
   "execution_count": 8,
   "id": "f14c18a7",
   "metadata": {},
   "outputs": [],
   "source": [
    "diabetes_data_train,diabetes_data_test,diabetes_target_train,diabetes_target_test = model_selection.train_test_split(diabetes_data,diabetes_target)"
   ]
  },
  {
   "cell_type": "code",
   "execution_count": 9,
   "id": "d884cea1",
   "metadata": {},
   "outputs": [
    {
     "name": "stdout",
     "output_type": "stream",
     "text": [
      "[[ 0.04534098  0.05068012  0.06061839 ...  0.07120998  0.13359898\n",
      "   0.13561183]\n",
      " [-0.00914709  0.05068012 -0.03961813 ...  0.07120998  0.01776348\n",
      "  -0.06735141]\n",
      " [ 0.01264814  0.05068012 -0.02237314 ...  0.03430886 -0.00608025\n",
      "  -0.0010777 ]\n",
      " ...\n",
      " [ 0.04897352  0.05068012  0.05846277 ...  0.03430886  0.02200405\n",
      "   0.02791705]\n",
      " [ 0.05987114  0.05068012  0.07678558 ...  0.03430886  0.02993565\n",
      "   0.04448548]\n",
      " [-0.08906294 -0.04464164 -0.04177375 ... -0.03949338  0.0011438\n",
      "  -0.03007245]]\n",
      "\n",
      "[[ 0.01991321 -0.04464164  0.00457217 ... -0.03949338 -0.02364456\n",
      "  -0.04664087]\n",
      " [ 0.01264814  0.05068012  0.00026092 ...  0.05608052  0.02405258\n",
      "   0.03205916]\n",
      " [ 0.04534098  0.05068012 -0.00836158 ...  0.03430886  0.02993565\n",
      "   0.02791705]\n",
      " ...\n",
      " [-0.05637009 -0.04464164 -0.01159501 ... -0.03949338 -0.0079794\n",
      "  -0.08806194]\n",
      " [ 0.04897352 -0.04464164  0.06061839 ... -0.00259226  0.10413761\n",
      "   0.03620126]\n",
      " [ 0.03444337  0.05068012  0.12528712 ...  0.1081111   0.00027149\n",
      "   0.02791705]]\n",
      "\n",
      "[245. 124.  51.  49. 191. 210.  69.  65. 308. 183. 137. 244. 131. 139.\n",
      " 198.  53. 172. 173.  89.  31.  39. 232.  51. 215. 120. 236. 185.  84.\n",
      " 258.  72. 174.  37.  99.  98.  75. 243. 103. 233. 283. 200. 265.  88.\n",
      "  59. 198. 140.  84.  97. 109. 138. 235. 118.  93. 150.  88. 317. 190.\n",
      " 252. 292. 179. 142.  72. 214. 187.  85. 310. 229. 219. 221.  47. 146.\n",
      " 129. 186.  72. 115. 246.  59. 281.  66. 196. 272. 114. 241.  53. 121.\n",
      " 124. 128.  88. 150. 131. 230.  77. 233.  57.  91.  79. 198. 121. 220.\n",
      " 214. 158. 101.  92. 174. 261. 100. 180.  81.  91. 237. 275. 270. 141.\n",
      " 178. 108. 192. 233. 145.  42. 171. 259.  52. 143.  77. 131.  60. 173.\n",
      " 147.  91. 178. 178. 230. 103. 288.  73. 172. 140. 196.  39.  67.  66.\n",
      " 181. 189.  74.  55.  49. 111. 134. 245. 101.  52. 144. 128.  61. 200.\n",
      " 295. 164.  71.  60. 142. 249. 293.  50. 160.  53. 109. 259. 122. 248.\n",
      "  83. 184.  72.  99. 152. 101.  45. 102. 262. 200.  64. 168.  63.  70.\n",
      " 283. 118. 242. 243.  48. 200.  71. 311. 216. 220.  51.  94. 110. 102.\n",
      " 185.  63. 253. 263. 148. 262. 248.  68.  85.  58. 310.  69. 197. 160.\n",
      " 136.  78. 277. 182. 281.  90. 246.  90. 265. 202. 150. 270. 104.  75.\n",
      " 109. 268.  96. 346.  96. 166. 142.  90.  63.  60. 126. 138.  48. 151.\n",
      " 220. 258. 280.  69. 109.  83.  84. 257. 181. 303.  64.  94. 182.  97.\n",
      " 202. 191. 279. 272. 129. 235. 206.  67. 265.  87. 134.  81. 178.  63.\n",
      " 242. 127. 264.  71.  55. 113. 222. 306.  47. 104.  59.  84. 164. 292.\n",
      " 110. 268. 135. 212. 232. 200. 219. 155. 201. 135.  87. 128. 122. 116.\n",
      " 170. 195.  42.  25.  44.  40.  88. 102. 209. 296. 214. 163.  72. 113.\n",
      " 170. 128. 200. 153. 141. 168. 178.  68. 248. 275. 118. 142.  72. 152.\n",
      " 144.  70. 107.  90. 225. 154. 275. 332. 185.]\n",
      "\n",
      "[ 59. 259. 131.  52. 151. 113. 127. 277. 321. 168.  61. 115.  49.  64.\n",
      " 177. 180. 151.  90. 161. 237. 104. 297.  43. 155. 197. 104. 276. 107.\n",
      " 199.  65.  96. 202.  53. 274. 143. 281. 310.  86. 263.  77.  85.  68.\n",
      " 167. 252. 217.  54. 258. 182.  42. 141. 179.  74.  65. 202. 111.  71.\n",
      " 220. 281.  85.  65. 336. 170.  95. 144.  55. 111. 225.  77.  94. 257.\n",
      "  78.  71. 158. 175.  93. 242.  95. 139. 129. 156. 137. 132. 217.  89.\n",
      "  91. 302.  78.  80. 150. 144. 123.  97. 208.  97. 116.  48. 273. 162.\n",
      " 125.  96.  83.  92.  52. 206. 163. 275. 252.  55. 190. 132. 341.]\n"
     ]
    }
   ],
   "source": [
    "print(diabetes_data_train)\n",
    "print()\n",
    "print(diabetes_data_test)\n",
    "print()\n",
    "print(diabetes_target_train)\n",
    "print()\n",
    "print(diabetes_target_test)"
   ]
  },
  {
   "cell_type": "markdown",
   "id": "2224b739",
   "metadata": {},
   "source": [
    "### Checking size of each Dataset"
   ]
  },
  {
   "cell_type": "code",
   "execution_count": 10,
   "id": "46e85b27",
   "metadata": {},
   "outputs": [
    {
     "name": "stdout",
     "output_type": "stream",
     "text": [
      "data_train (331, 10)\n",
      "data_test (111, 10)\n",
      "target_train (331,)\n",
      "target_test (111,)\n"
     ]
    }
   ],
   "source": [
    "print(\"data_train\",diabetes_data_train.shape)\n",
    "print(\"data_test\",diabetes_data_test.shape)\n",
    "print(\"target_train\",diabetes_target_train.shape)\n",
    "print(\"target_test\",diabetes_target_test.shape)"
   ]
  },
  {
   "cell_type": "code",
   "execution_count": 12,
   "id": "e67759dd",
   "metadata": {},
   "outputs": [
    {
     "data": {
      "text/plain": [
       "LinearRegression()"
      ]
     },
     "execution_count": 12,
     "metadata": {},
     "output_type": "execute_result"
    }
   ],
   "source": [
    "alg1.fit(diabetes_data_train,diabetes_target_train)"
   ]
  },
  {
   "cell_type": "code",
   "execution_count": 13,
   "id": "4b5ce370",
   "metadata": {},
   "outputs": [
    {
     "data": {
      "text/plain": [
       "array([123.12319419, 156.85787562, 155.18865237,  64.41869745,\n",
       "       164.36709042,  96.08755215, 121.26832159, 168.89533296,\n",
       "       226.06659476, 145.36588437, 117.79349251,  99.51362094,\n",
       "       131.36743305, 118.95473302, 115.10478556, 213.16610358,\n",
       "       171.05827727, 139.17280849, 191.75144517, 152.17995593,\n",
       "        80.57482779, 204.66778572,  60.720114  , 158.12401707,\n",
       "       147.22918006, 155.51372843, 162.20868619, 112.37740275,\n",
       "       106.64205023,  98.01297392,  92.20696553, 145.71727865,\n",
       "       122.03804745, 239.12108709, 173.46069167, 196.43203998,\n",
       "       253.66179835, 160.68269746, 176.61682095,  58.33943064,\n",
       "       147.10204226, 117.90334182, 186.1502787 , 152.94980303,\n",
       "       230.40558575,  92.52188384, 293.33894609, 115.34274458,\n",
       "       128.6958388 , 170.76422474, 165.77100854, 132.36559844,\n",
       "        59.12311063, 185.75794454, 121.98892116,  86.80862467,\n",
       "       169.68750268, 253.31522234, 180.28895571, 120.91880941,\n",
       "       245.47131977, 185.96339941, 152.93369354, 178.45055561,\n",
       "        79.54101131, 170.09464715, 163.57405422,  81.68449144,\n",
       "       105.83573647, 183.18103974,  49.2243095 , 110.65086091,\n",
       "        96.23737718, 181.02882307, 149.13070959, 178.70485677,\n",
       "       152.48743657, 121.60026011, 162.02045051, 157.25140542,\n",
       "       198.11685317, 116.18098603, 173.5151589 , 109.74665229,\n",
       "        89.08183112, 156.36716015, 128.21388256,  72.05459685,\n",
       "       132.59058561, 154.6727268 , 199.61354176, 152.24809387,\n",
       "       227.0950936 , 114.68156437, 142.81998602,  57.55026072,\n",
       "       266.26694358, 134.7307026 , 104.43676579, 114.09501806,\n",
       "       142.90462331,  79.25564723, 212.80656292, 174.6676297 ,\n",
       "       208.37601684, 255.11897636, 236.78554153,  82.11353691,\n",
       "       148.73627216, 253.93372397, 247.88782579])"
      ]
     },
     "execution_count": 13,
     "metadata": {},
     "output_type": "execute_result"
    }
   ],
   "source": [
    "diabetes_target_pred = alg1.predict(diabetes_data_test)\n",
    "diabetes_target_pred"
   ]
  },
  {
   "cell_type": "code",
   "execution_count": 21,
   "id": "24d39cd5",
   "metadata": {},
   "outputs": [
    {
     "data": {
      "image/png": "[encoded data removed]",
      "text/plain": [
       "<Figure size 432x288 with 1 Axes>"
      ]
     },
     "metadata": {
      "needs_background": "light"
     },
     "output_type": "display_data"
    }
   ],
   "source": [
    "plt.scatter(diabetes_target_test, diabetes_target_pred)\n",
    "line = np.arange(0,400,1)\n",
    "plt.plot(line)\n",
    "plt.axis([0,400,0,400])\n",
    "plt.show()"
   ]
  },
  {
   "cell_type": "code",
   "execution_count": null,
   "id": "50c6e1de",
   "metadata": {},
   "outputs": [],
   "source": []
  }
 ],
 "metadata": {
  "kernelspec": {
   "display_name": "Python 3 (ipykernel)",
   "language": "python",
   "name": "python3"
  },
  "language_info": {
   "codemirror_mode": {
    "name": "ipython",
    "version": 3
   },
   "file_extension": ".py",
   "mimetype": "text/x-python",
   "name": "python",
   "nbconvert_exporter": "python",
   "pygments_lexer": "ipython3",
   "version": "3.9.12"
  }
 },
 "nbformat": 4,
 "nbformat_minor": 5
}
